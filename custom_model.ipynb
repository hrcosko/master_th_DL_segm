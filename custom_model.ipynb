{
  "nbformat": 4,
  "nbformat_minor": 0,
  "metadata": {
    "colab": {
      "name": "custom_model.ipynb",
      "provenance": [],
      "collapsed_sections": []
    },
    "kernelspec": {
      "name": "python3",
      "display_name": "Python 3"
    },
    "accelerator": "GPU"
  },
  "cells": [
    {
      "cell_type": "markdown",
      "metadata": {
        "id": "7s2eCROQSJ0u"
      },
      "source": [
        "___ \n",
        "# data\n",
        "___"
      ]
    },
    {
      "cell_type": "code",
      "metadata": {
        "id": "8yIreRqaCs0R"
      },
      "source": [
        "import os\n",
        "from datetime import datetime\n",
        "import numpy as np\n",
        "import cv2\n",
        "from glob import glob\n",
        "import tensorflow as tf\n",
        "from sklearn.model_selection import train_test_split"
      ],
      "execution_count": 3,
      "outputs": []
    },
    {
      "cell_type": "code",
      "metadata": {
        "id": "s7Mb33TeHMFi",
        "colab": {
          "base_uri": "https://localhost:8080/"
        },
        "outputId": "8dc34c1d-dd6d-4928-f9ca-615001e330b7"
      },
      "source": [
        "%load_ext tensorboard"
      ],
      "execution_count": 36,
      "outputs": [
        {
          "output_type": "stream",
          "text": [
            "The tensorboard extension is already loaded. To reload it, use:\n",
            "  %reload_ext tensorboard\n"
          ],
          "name": "stdout"
        }
      ]
    },
    {
      "cell_type": "code",
      "metadata": {
        "id": "F3aO_nsfDzPw"
      },
      "source": [
        "def load_data(path, split=0.1):\n",
        "    \n",
        "    images = sorted(glob(os.path.join(path, 'MP6843_img/*')))\n",
        "    masks = glob(os.path.join(path, 'MP6843_mask/*'))\n",
        "    masks = masks + masks\n",
        "    masks.sort()\n",
        "\n",
        "    total_size = len(images)\n",
        "    valid_size = int(split * total_size)\n",
        "    test_size = int(split * total_size)\n",
        "\n",
        "    train_x, valid_x = train_test_split(images, test_size=valid_size, random_state=42)\n",
        "    train_y, valid_y = train_test_split(masks, test_size=valid_size, random_state=42)\n",
        "\n",
        "    train_x, test_x = train_test_split(train_x, test_size=test_size, random_state=42)\n",
        "    train_y, test_y = train_test_split(train_y, test_size=test_size, random_state=42)\n",
        "\n",
        "    return (train_x, train_y), (valid_x, valid_y), (test_x, test_y)\n"
      ],
      "execution_count": 37,
      "outputs": []
    },
    {
      "cell_type": "code",
      "metadata": {
        "id": "F5qsaT3fD7JM"
      },
      "source": [
        "def read_image(path):\n",
        "    \n",
        "    path = path.decode()\n",
        "    image = cv2.imread(path, cv2.IMREAD_COLOR)\n",
        "    image = cv2.resize(image, (0,0), fx=0.5, fy=0.5)\n",
        "    image = image/255.0\n",
        "    \n",
        "    return image"
      ],
      "execution_count": 38,
      "outputs": []
    },
    {
      "cell_type": "code",
      "metadata": {
        "id": "dcCe1_YNEBRv"
      },
      "source": [
        "def read_mask(path):\n",
        "    \n",
        "    path = path.decode()\n",
        "    mask = cv2.imread(path, cv2.IMREAD_GRAYSCALE)\n",
        "    mask = mask/255.0\n",
        "    mask = np.expand_dims(mask, axis=-1)\n",
        "    \n",
        "    return mask"
      ],
      "execution_count": 39,
      "outputs": []
    },
    {
      "cell_type": "code",
      "metadata": {
        "id": "5_goqQeNEBfW"
      },
      "source": [
        "def tf_parse(image, mask):\n",
        "    \n",
        "    def _parse(image, mask):\n",
        "        image = read_image(image)\n",
        "        mask = read_mask(mask)\n",
        "        \n",
        "        return image, mask\n",
        "\n",
        "    image, mask = tf.numpy_function(_parse, [image, mask], [tf.float64, tf.float64])\n",
        "    image.set_shape([520, 696, 3])\n",
        "    mask.set_shape([520, 696, 1])\n",
        "   \n",
        "    return image, mask"
      ],
      "execution_count": 40,
      "outputs": []
    },
    {
      "cell_type": "code",
      "metadata": {
        "id": "y9wewMiaEBs5"
      },
      "source": [
        "def tf_dataset(image, mask, batch=4):\n",
        "    \n",
        "    dataset = tf.data.Dataset.from_tensor_slices((image, mask))\n",
        "    dataset = dataset.map(tf_parse)\n",
        "    dataset = dataset.batch(batch)\n",
        "    dataset = dataset.repeat()\n",
        "    \n",
        "    return dataset"
      ],
      "execution_count": 41,
      "outputs": []
    },
    {
      "cell_type": "code",
      "metadata": {
        "id": "IyqPbHoT9ckC"
      },
      "source": [
        "path = \"/content/drive/MyDrive/DIPLOMSKI/code/dataset/\"\n",
        "(train_x, train_y), (valid_x, valid_y), (test_x, test_y) = load_data(path)"
      ],
      "execution_count": 42,
      "outputs": []
    },
    {
      "cell_type": "code",
      "metadata": {
        "id": "4GlRmiU39L7C"
      },
      "source": [
        "#for image, mask in train_dataset.take(1):\n",
        "#  print(\"Image shape: \", image.numpy().shape)\n",
        "#  image = image.numpy()\n",
        "#  image = np.reshape(image, (-1, 520, 696, 3))\n",
        "#  print(\"Label: \", mask.numpy().shape)"
      ],
      "execution_count": 43,
      "outputs": []
    },
    {
      "cell_type": "code",
      "metadata": {
        "id": "arXReUnnEEhD"
      },
      "source": [
        "logdir = '/content/drive/MyDrive/DIPLOMSKI/code/logs/'\n",
        "!rm -rf '/content/drive/MyDrive/DIPLOMSKI/code/logs/'"
      ],
      "execution_count": 44,
      "outputs": []
    },
    {
      "cell_type": "code",
      "metadata": {
        "id": "2bqmyGtEKcDC"
      },
      "source": [
        "#logdir += 'train_data/' + datetime.now().strftime(\"%Y%m%d-%H%M%S\")\n",
        "#file_writer = tf.summary.create_file_writer(logdir)\n",
        "#\n",
        "#with file_writer.as_default():\n",
        "#  tf.summary.image(\"Training data\", image, step=0)"
      ],
      "execution_count": 45,
      "outputs": []
    },
    {
      "cell_type": "code",
      "metadata": {
        "id": "s-JEHjA5FxPR"
      },
      "source": [
        "# %tensorboard --logdir /content/drive/MyDrive/DIPLOMSKI/code/logs/train_data"
      ],
      "execution_count": 46,
      "outputs": []
    },
    {
      "cell_type": "markdown",
      "metadata": {
        "id": "ndAts4hvYkpB"
      },
      "source": [
        "___\n",
        "# model\n",
        "___"
      ]
    },
    {
      "cell_type": "code",
      "metadata": {
        "id": "RNDaoVqkYo5Z"
      },
      "source": [
        "from tensorflow.keras.layers import *\n",
        "from tensorflow.keras.models import Model\n",
        "from types import MethodType\n",
        "import keras.backend as K"
      ],
      "execution_count": 47,
      "outputs": []
    },
    {
      "cell_type": "code",
      "metadata": {
        "id": "hMKkf2PNJ9xY"
      },
      "source": [
        "def build_model(n_classes=1, input_height=520, input_width=696, \n",
        "                kernel=3, dropout=0.3, pool_size = 2):\n",
        "\n",
        "    ## Encoder\n",
        "    filter_size = 64\n",
        "    img_input = Input(shape=(input_height, input_width, 3))\n",
        "\n",
        "    x = img_input\n",
        "    levels = []\n",
        "    \n",
        "    x = Conv2D(filter_size, (kernel, kernel), padding='same')(x)\n",
        "    x = BatchNormalization()(x)\n",
        "    x = Activation('relu')(x)\n",
        "    x = Dropout(dropout)(x)\n",
        "    x = Conv2D(filter_size, (kernel, kernel), padding='same')(x)\n",
        "    x = BatchNormalization()(x)\n",
        "    x = Activation('relu')(x)\n",
        "    levels.append(x)\n",
        "    \n",
        "    x = MaxPooling2D((pool_size, pool_size))(x)\n",
        "    \n",
        "    x = Conv2D(128, (kernel, kernel), padding='same')(x)\n",
        "    x = BatchNormalization()(x)\n",
        "    x = Activation('relu')(x)\n",
        "    x = Dropout(dropout)(x)\n",
        "    x = Conv2D(128, (kernel, kernel), padding='same')(x)\n",
        "    x = BatchNormalization()(x)\n",
        "    x = Activation('relu')(x)\n",
        "    levels.append(x)\n",
        "    \n",
        "    x = MaxPooling2D((pool_size, pool_size))(x)\n",
        "    \n",
        "    x = Conv2D(256, (kernel, kernel), padding='same')(x)\n",
        "    x = BatchNormalization()(x)\n",
        "    x = Activation('relu')(x)\n",
        "    x = Dropout(dropout)(x)\n",
        "    x = Conv2D(256, (kernel, kernel), padding='same')(x)\n",
        "    x = BatchNormalization()(x)\n",
        "    x = Activation('relu')(x)\n",
        "    levels.append(x)\n",
        "    \n",
        "    x = MaxPooling2D((pool_size, pool_size))(x)\n",
        "   \n",
        "    x = Conv2D(512, (kernel, kernel), padding='same')(x)\n",
        "    x = BatchNormalization()(x)\n",
        "    x = Activation('relu')(x)\n",
        "    x = Dropout(dropout)(x)\n",
        "    x = Conv2D(512, (kernel, kernel), padding='same')(x)\n",
        "    x = BatchNormalization()(x)\n",
        "    x = Activation('relu')(x)\n",
        "    x = ZeroPadding2D(((0, 1), (0, 1)))(x)\n",
        "    levels.append(x)\n",
        "    \n",
        "    x = MaxPooling2D((pool_size, pool_size))(x)\n",
        "    \n",
        "    x = Conv2D(1024, (kernel, kernel), padding='same')(x)\n",
        "    x = BatchNormalization()(x)\n",
        "    x = Activation('relu')(x)\n",
        "    x = Dropout(dropout)(x)\n",
        "    x = Conv2D(1024, (kernel, kernel), padding='same')(x)\n",
        "    x = BatchNormalization()(x)\n",
        "    x = Activation('relu')(x)\n",
        "    levels.append(x)\n",
        "    \n",
        "    [f1, f2, f3, f4, f5] = levels\n",
        "    #for _ in levels:\n",
        "      #print(_)\n",
        "\n",
        "    ### Decoder\n",
        "    o = f5\n",
        "    \n",
        "    o = Conv2DTranspose(512, kernel_size=(2, 2), strides=(2,2))(o)\n",
        "    \n",
        "    o = concatenate([o, f4], axis=-1)\n",
        "    o = Conv2D(512, (3, 3), padding='same')(o)\n",
        "    o = BatchNormalization()(o)\n",
        "    o = Activation('relu')(o)\n",
        "    o = Dropout(dropout)(o)\n",
        "    o = Conv2D(512, (3, 3), padding='same')(o)\n",
        "    o = BatchNormalization()(o)\n",
        "    o = Activation('relu')(o)\n",
        "    o = Cropping2D(((0, 1), (0, 1)))(o)\n",
        "    \n",
        "    o = Conv2DTranspose(256, kernel_size=(2, 2), strides=(2,2))(o)\n",
        "        \n",
        "    o = concatenate([o, f3], axis=-1)\n",
        "    o = Conv2D(256, (3, 3), padding='same')(o)\n",
        "    o = BatchNormalization()(o)\n",
        "    o = Activation('relu')(o)\n",
        "    o = Dropout(dropout)(o)\n",
        "    o = Conv2D(256, (3, 3), padding='same')(o)\n",
        "    o = BatchNormalization()(o)\n",
        "    o = Activation('relu')(o)\n",
        "\n",
        "    o = Conv2DTranspose(128, kernel_size=(2, 2), strides=(2,2))(o)\n",
        "\n",
        "    o = concatenate([o, f2], axis=-1)\n",
        "    o = Conv2D(128, (3, 3), padding='same')(o)\n",
        "    o = BatchNormalization()(o)\n",
        "    o = Activation('relu')(o)\n",
        "    o = Dropout(dropout)(o)\n",
        "    o = Conv2D(128, (3, 3), padding='same')(o)\n",
        "    o = BatchNormalization()(o)\n",
        "    o = Activation('relu')(o)\n",
        "\n",
        "    o = Conv2DTranspose(64, kernel_size=(2, 2), strides=(2,2))(o)\n",
        "\n",
        "    o = concatenate([o, f1], axis=-1)\n",
        "    o = Conv2D(64, (3, 3), padding='same')(o)\n",
        "    o = BatchNormalization()(o)\n",
        "    o = Activation('relu')(o)\n",
        "    o = Dropout(dropout)(o)\n",
        "    o = Conv2D(64, (3, 3), padding='same')(o)\n",
        "    o = BatchNormalization()(o)\n",
        "    o = Activation('relu')(o)\n",
        "\n",
        "    ### Output\n",
        "    o = Conv2D(n_classes, (1, 1), padding='same')(o)\n",
        "    o = Activation('sigmoid')(o)\n",
        "    model = Model(img_input, o)\n",
        "    \n",
        "    return model\n",
        "    "
      ],
      "execution_count": 48,
      "outputs": []
    },
    {
      "cell_type": "code",
      "metadata": {
        "colab": {
          "base_uri": "https://localhost:8080/"
        },
        "id": "U7ZlEWDW6HG6",
        "outputId": "300023f1-8f71-4614-9194-c076c5930947"
      },
      "source": [
        "model = build_model()\n",
        "model.summary()"
      ],
      "execution_count": 49,
      "outputs": [
        {
          "output_type": "stream",
          "text": [
            "Model: \"model_3\"\n",
            "__________________________________________________________________________________________________\n",
            "Layer (type)                    Output Shape         Param #     Connected to                     \n",
            "==================================================================================================\n",
            "input_4 (InputLayer)            [(None, 520, 696, 3) 0                                            \n",
            "__________________________________________________________________________________________________\n",
            "conv2d_57 (Conv2D)              (None, 520, 696, 64) 1792        input_4[0][0]                    \n",
            "__________________________________________________________________________________________________\n",
            "batch_normalization_54 (BatchNo (None, 520, 696, 64) 256         conv2d_57[0][0]                  \n",
            "__________________________________________________________________________________________________\n",
            "activation_57 (Activation)      (None, 520, 696, 64) 0           batch_normalization_54[0][0]     \n",
            "__________________________________________________________________________________________________\n",
            "dropout_27 (Dropout)            (None, 520, 696, 64) 0           activation_57[0][0]              \n",
            "__________________________________________________________________________________________________\n",
            "conv2d_58 (Conv2D)              (None, 520, 696, 64) 36928       dropout_27[0][0]                 \n",
            "__________________________________________________________________________________________________\n",
            "batch_normalization_55 (BatchNo (None, 520, 696, 64) 256         conv2d_58[0][0]                  \n",
            "__________________________________________________________________________________________________\n",
            "activation_58 (Activation)      (None, 520, 696, 64) 0           batch_normalization_55[0][0]     \n",
            "__________________________________________________________________________________________________\n",
            "max_pooling2d_12 (MaxPooling2D) (None, 260, 348, 64) 0           activation_58[0][0]              \n",
            "__________________________________________________________________________________________________\n",
            "conv2d_59 (Conv2D)              (None, 260, 348, 128 73856       max_pooling2d_12[0][0]           \n",
            "__________________________________________________________________________________________________\n",
            "batch_normalization_56 (BatchNo (None, 260, 348, 128 512         conv2d_59[0][0]                  \n",
            "__________________________________________________________________________________________________\n",
            "activation_59 (Activation)      (None, 260, 348, 128 0           batch_normalization_56[0][0]     \n",
            "__________________________________________________________________________________________________\n",
            "dropout_28 (Dropout)            (None, 260, 348, 128 0           activation_59[0][0]              \n",
            "__________________________________________________________________________________________________\n",
            "conv2d_60 (Conv2D)              (None, 260, 348, 128 147584      dropout_28[0][0]                 \n",
            "__________________________________________________________________________________________________\n",
            "batch_normalization_57 (BatchNo (None, 260, 348, 128 512         conv2d_60[0][0]                  \n",
            "__________________________________________________________________________________________________\n",
            "activation_60 (Activation)      (None, 260, 348, 128 0           batch_normalization_57[0][0]     \n",
            "__________________________________________________________________________________________________\n",
            "max_pooling2d_13 (MaxPooling2D) (None, 130, 174, 128 0           activation_60[0][0]              \n",
            "__________________________________________________________________________________________________\n",
            "conv2d_61 (Conv2D)              (None, 130, 174, 256 295168      max_pooling2d_13[0][0]           \n",
            "__________________________________________________________________________________________________\n",
            "batch_normalization_58 (BatchNo (None, 130, 174, 256 1024        conv2d_61[0][0]                  \n",
            "__________________________________________________________________________________________________\n",
            "activation_61 (Activation)      (None, 130, 174, 256 0           batch_normalization_58[0][0]     \n",
            "__________________________________________________________________________________________________\n",
            "dropout_29 (Dropout)            (None, 130, 174, 256 0           activation_61[0][0]              \n",
            "__________________________________________________________________________________________________\n",
            "conv2d_62 (Conv2D)              (None, 130, 174, 256 590080      dropout_29[0][0]                 \n",
            "__________________________________________________________________________________________________\n",
            "batch_normalization_59 (BatchNo (None, 130, 174, 256 1024        conv2d_62[0][0]                  \n",
            "__________________________________________________________________________________________________\n",
            "activation_62 (Activation)      (None, 130, 174, 256 0           batch_normalization_59[0][0]     \n",
            "__________________________________________________________________________________________________\n",
            "max_pooling2d_14 (MaxPooling2D) (None, 65, 87, 256)  0           activation_62[0][0]              \n",
            "__________________________________________________________________________________________________\n",
            "conv2d_63 (Conv2D)              (None, 65, 87, 512)  1180160     max_pooling2d_14[0][0]           \n",
            "__________________________________________________________________________________________________\n",
            "batch_normalization_60 (BatchNo (None, 65, 87, 512)  2048        conv2d_63[0][0]                  \n",
            "__________________________________________________________________________________________________\n",
            "activation_63 (Activation)      (None, 65, 87, 512)  0           batch_normalization_60[0][0]     \n",
            "__________________________________________________________________________________________________\n",
            "dropout_30 (Dropout)            (None, 65, 87, 512)  0           activation_63[0][0]              \n",
            "__________________________________________________________________________________________________\n",
            "conv2d_64 (Conv2D)              (None, 65, 87, 512)  2359808     dropout_30[0][0]                 \n",
            "__________________________________________________________________________________________________\n",
            "batch_normalization_61 (BatchNo (None, 65, 87, 512)  2048        conv2d_64[0][0]                  \n",
            "__________________________________________________________________________________________________\n",
            "activation_64 (Activation)      (None, 65, 87, 512)  0           batch_normalization_61[0][0]     \n",
            "__________________________________________________________________________________________________\n",
            "zero_padding2d_3 (ZeroPadding2D (None, 66, 88, 512)  0           activation_64[0][0]              \n",
            "__________________________________________________________________________________________________\n",
            "max_pooling2d_15 (MaxPooling2D) (None, 33, 44, 512)  0           zero_padding2d_3[0][0]           \n",
            "__________________________________________________________________________________________________\n",
            "conv2d_65 (Conv2D)              (None, 33, 44, 1024) 4719616     max_pooling2d_15[0][0]           \n",
            "__________________________________________________________________________________________________\n",
            "batch_normalization_62 (BatchNo (None, 33, 44, 1024) 4096        conv2d_65[0][0]                  \n",
            "__________________________________________________________________________________________________\n",
            "activation_65 (Activation)      (None, 33, 44, 1024) 0           batch_normalization_62[0][0]     \n",
            "__________________________________________________________________________________________________\n",
            "dropout_31 (Dropout)            (None, 33, 44, 1024) 0           activation_65[0][0]              \n",
            "__________________________________________________________________________________________________\n",
            "conv2d_66 (Conv2D)              (None, 33, 44, 1024) 9438208     dropout_31[0][0]                 \n",
            "__________________________________________________________________________________________________\n",
            "batch_normalization_63 (BatchNo (None, 33, 44, 1024) 4096        conv2d_66[0][0]                  \n",
            "__________________________________________________________________________________________________\n",
            "activation_66 (Activation)      (None, 33, 44, 1024) 0           batch_normalization_63[0][0]     \n",
            "__________________________________________________________________________________________________\n",
            "conv2d_transpose_12 (Conv2DTran (None, 66, 88, 512)  2097664     activation_66[0][0]              \n",
            "__________________________________________________________________________________________________\n",
            "concatenate_12 (Concatenate)    (None, 66, 88, 1024) 0           conv2d_transpose_12[0][0]        \n",
            "                                                                 zero_padding2d_3[0][0]           \n",
            "__________________________________________________________________________________________________\n",
            "conv2d_67 (Conv2D)              (None, 66, 88, 512)  4719104     concatenate_12[0][0]             \n",
            "__________________________________________________________________________________________________\n",
            "batch_normalization_64 (BatchNo (None, 66, 88, 512)  2048        conv2d_67[0][0]                  \n",
            "__________________________________________________________________________________________________\n",
            "activation_67 (Activation)      (None, 66, 88, 512)  0           batch_normalization_64[0][0]     \n",
            "__________________________________________________________________________________________________\n",
            "dropout_32 (Dropout)            (None, 66, 88, 512)  0           activation_67[0][0]              \n",
            "__________________________________________________________________________________________________\n",
            "conv2d_68 (Conv2D)              (None, 66, 88, 512)  2359808     dropout_32[0][0]                 \n",
            "__________________________________________________________________________________________________\n",
            "batch_normalization_65 (BatchNo (None, 66, 88, 512)  2048        conv2d_68[0][0]                  \n",
            "__________________________________________________________________________________________________\n",
            "activation_68 (Activation)      (None, 66, 88, 512)  0           batch_normalization_65[0][0]     \n",
            "__________________________________________________________________________________________________\n",
            "cropping2d_3 (Cropping2D)       (None, 65, 87, 512)  0           activation_68[0][0]              \n",
            "__________________________________________________________________________________________________\n",
            "conv2d_transpose_13 (Conv2DTran (None, 130, 174, 256 524544      cropping2d_3[0][0]               \n",
            "__________________________________________________________________________________________________\n",
            "concatenate_13 (Concatenate)    (None, 130, 174, 512 0           conv2d_transpose_13[0][0]        \n",
            "                                                                 activation_62[0][0]              \n",
            "__________________________________________________________________________________________________\n",
            "conv2d_69 (Conv2D)              (None, 130, 174, 256 1179904     concatenate_13[0][0]             \n",
            "__________________________________________________________________________________________________\n",
            "batch_normalization_66 (BatchNo (None, 130, 174, 256 1024        conv2d_69[0][0]                  \n",
            "__________________________________________________________________________________________________\n",
            "activation_69 (Activation)      (None, 130, 174, 256 0           batch_normalization_66[0][0]     \n",
            "__________________________________________________________________________________________________\n",
            "dropout_33 (Dropout)            (None, 130, 174, 256 0           activation_69[0][0]              \n",
            "__________________________________________________________________________________________________\n",
            "conv2d_70 (Conv2D)              (None, 130, 174, 256 590080      dropout_33[0][0]                 \n",
            "__________________________________________________________________________________________________\n",
            "batch_normalization_67 (BatchNo (None, 130, 174, 256 1024        conv2d_70[0][0]                  \n",
            "__________________________________________________________________________________________________\n",
            "activation_70 (Activation)      (None, 130, 174, 256 0           batch_normalization_67[0][0]     \n",
            "__________________________________________________________________________________________________\n",
            "conv2d_transpose_14 (Conv2DTran (None, 260, 348, 128 131200      activation_70[0][0]              \n",
            "__________________________________________________________________________________________________\n",
            "concatenate_14 (Concatenate)    (None, 260, 348, 256 0           conv2d_transpose_14[0][0]        \n",
            "                                                                 activation_60[0][0]              \n",
            "__________________________________________________________________________________________________\n",
            "conv2d_71 (Conv2D)              (None, 260, 348, 128 295040      concatenate_14[0][0]             \n",
            "__________________________________________________________________________________________________\n",
            "batch_normalization_68 (BatchNo (None, 260, 348, 128 512         conv2d_71[0][0]                  \n",
            "__________________________________________________________________________________________________\n",
            "activation_71 (Activation)      (None, 260, 348, 128 0           batch_normalization_68[0][0]     \n",
            "__________________________________________________________________________________________________\n",
            "dropout_34 (Dropout)            (None, 260, 348, 128 0           activation_71[0][0]              \n",
            "__________________________________________________________________________________________________\n",
            "conv2d_72 (Conv2D)              (None, 260, 348, 128 147584      dropout_34[0][0]                 \n",
            "__________________________________________________________________________________________________\n",
            "batch_normalization_69 (BatchNo (None, 260, 348, 128 512         conv2d_72[0][0]                  \n",
            "__________________________________________________________________________________________________\n",
            "activation_72 (Activation)      (None, 260, 348, 128 0           batch_normalization_69[0][0]     \n",
            "__________________________________________________________________________________________________\n",
            "conv2d_transpose_15 (Conv2DTran (None, 520, 696, 64) 32832       activation_72[0][0]              \n",
            "__________________________________________________________________________________________________\n",
            "concatenate_15 (Concatenate)    (None, 520, 696, 128 0           conv2d_transpose_15[0][0]        \n",
            "                                                                 activation_58[0][0]              \n",
            "__________________________________________________________________________________________________\n",
            "conv2d_73 (Conv2D)              (None, 520, 696, 64) 73792       concatenate_15[0][0]             \n",
            "__________________________________________________________________________________________________\n",
            "batch_normalization_70 (BatchNo (None, 520, 696, 64) 256         conv2d_73[0][0]                  \n",
            "__________________________________________________________________________________________________\n",
            "activation_73 (Activation)      (None, 520, 696, 64) 0           batch_normalization_70[0][0]     \n",
            "__________________________________________________________________________________________________\n",
            "dropout_35 (Dropout)            (None, 520, 696, 64) 0           activation_73[0][0]              \n",
            "__________________________________________________________________________________________________\n",
            "conv2d_74 (Conv2D)              (None, 520, 696, 64) 36928       dropout_35[0][0]                 \n",
            "__________________________________________________________________________________________________\n",
            "batch_normalization_71 (BatchNo (None, 520, 696, 64) 256         conv2d_74[0][0]                  \n",
            "__________________________________________________________________________________________________\n",
            "activation_74 (Activation)      (None, 520, 696, 64) 0           batch_normalization_71[0][0]     \n",
            "__________________________________________________________________________________________________\n",
            "conv2d_75 (Conv2D)              (None, 520, 696, 1)  65          activation_74[0][0]              \n",
            "__________________________________________________________________________________________________\n",
            "activation_75 (Activation)      (None, 520, 696, 1)  0           conv2d_75[0][0]                  \n",
            "==================================================================================================\n",
            "Total params: 31,055,297\n",
            "Trainable params: 31,043,521\n",
            "Non-trainable params: 11,776\n",
            "__________________________________________________________________________________________________\n"
          ],
          "name": "stdout"
        }
      ]
    },
    {
      "cell_type": "code",
      "metadata": {
        "id": "1LH2W-nsmmZi"
      },
      "source": [
        "from tensorflow.keras.utils import plot_model"
      ],
      "execution_count": 50,
      "outputs": []
    },
    {
      "cell_type": "code",
      "metadata": {
        "id": "bFrsPY1RnXYY"
      },
      "source": [
        "#dot_img_file = '/content/drive/MyDrive/DIPLOMSKI/code/logs/model_0.png'\n",
        "#tf.keras.utils.plot_model(model, to_file=dot_img_file, show_shapes=True)"
      ],
      "execution_count": 51,
      "outputs": []
    },
    {
      "cell_type": "markdown",
      "metadata": {
        "id": "e1lOqwLg6ctN"
      },
      "source": [
        "---\n",
        "# train\n",
        "---\n",
        "\n"
      ]
    },
    {
      "cell_type": "code",
      "metadata": {
        "id": "kbzqs__k6bTi"
      },
      "source": [
        "from tensorflow.keras.callbacks import EarlyStopping, ModelCheckpoint, ReduceLROnPlateau, CSVLogger, TensorBoard"
      ],
      "execution_count": 52,
      "outputs": []
    },
    {
      "cell_type": "code",
      "metadata": {
        "id": "-ajy6viEzEeG"
      },
      "source": [
        "def iou(y_true, y_pred):\n",
        "     \n",
        "     def f(y_true, y_pred):\n",
        "         \n",
        "         intersection = (y_true * y_pred).sum()\n",
        "         union = y_true.sum() + y_pred.sum() - intersection\n",
        "         x = (intersection + 1e-15) / (union + 1e-15)\n",
        "         x = x.astype(np.float32)\n",
        "         \n",
        "         return x\n",
        "     \n",
        "     return tf.numpy_function(f, [y_true, y_pred], tf.float32)"
      ],
      "execution_count": 53,
      "outputs": []
    },
    {
      "cell_type": "code",
      "metadata": {
        "id": "BorapVm2zi1w"
      },
      "source": [
        "lr = 1e-4\n",
        "epochs = 20\n",
        "batch = 4"
      ],
      "execution_count": 54,
      "outputs": []
    },
    {
      "cell_type": "code",
      "metadata": {
        "id": "8FLMPd9jzrYU"
      },
      "source": [
        "train_dataset = tf_dataset(train_x, train_y)\n",
        "valid_dataset = tf_dataset(valid_x, valid_y)"
      ],
      "execution_count": 55,
      "outputs": []
    },
    {
      "cell_type": "code",
      "metadata": {
        "id": "5ZQpMBxGzriB"
      },
      "source": [
        "model = build_model()\n",
        "\n",
        "opt = tf.keras.optimizers.Adam(lr)\n",
        "metrics = [\"acc\", tf.keras.metrics.Recall(), tf.keras.metrics.Precision(), iou]\n",
        "model.compile(loss=\"binary_crossentropy\", optimizer=opt, metrics=metrics)"
      ],
      "execution_count": 56,
      "outputs": []
    },
    {
      "cell_type": "code",
      "metadata": {
        "id": "4AZ_YE3az5XK"
      },
      "source": [
        "callbacks = [\n",
        "          ModelCheckpoint(\"/content/drive/MyDrive/DIPLOMSKI/code/files/model_new.h5\"),\n",
        "          ReduceLROnPlateau(monitor='val_loss', factor=0.1, patience=4),\n",
        "          CSVLogger(\"/content/drive/MyDrive/DIPLOMSKI/code/files/data.csv\"),\n",
        "          TensorBoard(),\n",
        "          EarlyStopping(monitor='val_loss', patience=10, restore_best_weights=False)\n",
        "     ]"
      ],
      "execution_count": 57,
      "outputs": []
    },
    {
      "cell_type": "code",
      "metadata": {
        "colab": {
          "base_uri": "https://localhost:8080/"
        },
        "id": "X-a5DeZZz5e5",
        "outputId": "22fb3d46-926d-43e1-9d5f-31b91001bb20"
      },
      "source": [
        "train_steps = len(train_x)//batch\n",
        "valid_steps = len(valid_x)//batch\n",
        "\n",
        "if len(train_x) % batch != 0:\n",
        "    train_steps += 1\n",
        "\n",
        "if len(valid_x) % batch != 0:\n",
        "    valid_steps += 1\n",
        "\n",
        "model.fit(train_dataset,\n",
        "    validation_data=valid_dataset,\n",
        "    epochs=epochs,\n",
        "    steps_per_epoch=train_steps,\n",
        "    validation_steps=valid_steps,\n",
        "    callbacks=callbacks)\n",
        "\n",
        "model.save(\"/content/drive/MyDrive/DIPLOMSKI/code/files/saved_model.h5\")"
      ],
      "execution_count": 58,
      "outputs": [
        {
          "output_type": "stream",
          "text": [
            "Epoch 1/20\n",
            "40/40 [==============================] - 352s 9s/step - loss: 0.5153 - acc: 0.8266 - recall_2: 0.3582 - precision_2: 0.6741 - iou: 0.2484 - val_loss: 0.5495 - val_acc: 0.7818 - val_recall_2: 0.0000e+00 - val_precision_2: 0.0000e+00 - val_iou: 0.1443\n",
            "Epoch 2/20\n",
            "40/40 [==============================] - 70s 2s/step - loss: 0.2688 - acc: 0.9064 - recall_2: 0.7028 - precision_2: 0.8442 - iou: 0.4749 - val_loss: 0.5438 - val_acc: 0.7818 - val_recall_2: 0.0000e+00 - val_precision_2: 0.0000e+00 - val_iou: 0.0922\n",
            "Epoch 3/20\n",
            "40/40 [==============================] - 71s 2s/step - loss: 0.2545 - acc: 0.9095 - recall_2: 0.7044 - precision_2: 0.8578 - iou: 0.4915 - val_loss: 0.6654 - val_acc: 0.6113 - val_recall_2: 0.4346 - val_precision_2: 0.2633 - val_iou: 0.1741\n",
            "Epoch 4/20\n",
            "40/40 [==============================] - 70s 2s/step - loss: 0.2455 - acc: 0.9111 - recall_2: 0.7104 - precision_2: 0.8601 - iou: 0.5032 - val_loss: 0.7317 - val_acc: 0.7818 - val_recall_2: 0.0000e+00 - val_precision_2: 0.0000e+00 - val_iou: 0.0353\n",
            "Epoch 5/20\n",
            "40/40 [==============================] - 70s 2s/step - loss: 0.2355 - acc: 0.9134 - recall_2: 0.7181 - precision_2: 0.8640 - iou: 0.5149 - val_loss: 0.6296 - val_acc: 0.7818 - val_recall_2: 0.0000e+00 - val_precision_2: 0.0000e+00 - val_iou: 0.0569\n",
            "Epoch 6/20\n",
            "40/40 [==============================] - 70s 2s/step - loss: 0.2306 - acc: 0.9146 - recall_2: 0.7285 - precision_2: 0.8609 - iou: 0.5232 - val_loss: 0.8977 - val_acc: 0.7818 - val_recall_2: 0.0000e+00 - val_precision_2: 0.0000e+00 - val_iou: 0.0167\n",
            "Epoch 7/20\n",
            "40/40 [==============================] - 70s 2s/step - loss: 0.2203 - acc: 0.9176 - recall_2: 0.7352 - precision_2: 0.8688 - iou: 0.5357 - val_loss: 0.9406 - val_acc: 0.7818 - val_recall_2: 0.0000e+00 - val_precision_2: 0.0000e+00 - val_iou: 0.0139\n",
            "Epoch 8/20\n",
            "40/40 [==============================] - 68s 2s/step - loss: 0.2164 - acc: 0.9192 - recall_2: 0.7516 - precision_2: 0.8620 - iou: 0.5412 - val_loss: 0.9454 - val_acc: 0.7818 - val_recall_2: 0.0000e+00 - val_precision_2: 0.0000e+00 - val_iou: 0.0138\n",
            "Epoch 9/20\n",
            "40/40 [==============================] - 68s 2s/step - loss: 0.2150 - acc: 0.9198 - recall_2: 0.7556 - precision_2: 0.8616 - iou: 0.5442 - val_loss: 0.9293 - val_acc: 0.7819 - val_recall_2: 3.1849e-04 - val_precision_2: 0.9246 - val_iou: 0.0163\n",
            "Epoch 10/20\n",
            "40/40 [==============================] - 70s 2s/step - loss: 0.2135 - acc: 0.9202 - recall_2: 0.7580 - precision_2: 0.8613 - iou: 0.5468 - val_loss: 0.8747 - val_acc: 0.7831 - val_recall_2: 0.0072 - val_precision_2: 0.8458 - val_iou: 0.0300\n",
            "Epoch 11/20\n",
            "40/40 [==============================] - 71s 2s/step - loss: 0.2116 - acc: 0.9209 - recall_2: 0.7633 - precision_2: 0.8600 - iou: 0.5489 - val_loss: 0.7246 - val_acc: 0.7947 - val_recall_2: 0.0786 - val_precision_2: 0.8024 - val_iou: 0.1055\n",
            "Epoch 12/20\n",
            "40/40 [==============================] - 68s 2s/step - loss: 0.2116 - acc: 0.9209 - recall_2: 0.7622 - precision_2: 0.8610 - iou: 0.5494 - val_loss: 0.5081 - val_acc: 0.8334 - val_recall_2: 0.4058 - val_precision_2: 0.7055 - val_iou: 0.3076\n",
            "Epoch 13/20\n",
            "40/40 [==============================] - 68s 2s/step - loss: 0.2115 - acc: 0.9209 - recall_2: 0.7615 - precision_2: 0.8614 - iou: 0.5497 - val_loss: 0.4889 - val_acc: 0.8274 - val_recall_2: 0.6713 - val_precision_2: 0.5922 - val_iou: 0.4132\n",
            "Epoch 14/20\n",
            "40/40 [==============================] - 68s 2s/step - loss: 0.2110 - acc: 0.9210 - recall_2: 0.7623 - precision_2: 0.8614 - iou: 0.5503 - val_loss: 0.5462 - val_acc: 0.8122 - val_recall_2: 0.7777 - val_precision_2: 0.5493 - val_iou: 0.4391\n",
            "Epoch 15/20\n",
            "40/40 [==============================] - 68s 2s/step - loss: 0.2110 - acc: 0.9210 - recall_2: 0.7626 - precision_2: 0.8611 - iou: 0.5506 - val_loss: 0.5733 - val_acc: 0.8061 - val_recall_2: 0.8243 - val_precision_2: 0.5362 - val_iou: 0.4487\n",
            "Epoch 16/20\n",
            "40/40 [==============================] - 68s 2s/step - loss: 0.2107 - acc: 0.9211 - recall_2: 0.7628 - precision_2: 0.8614 - iou: 0.5510 - val_loss: 0.5727 - val_acc: 0.8073 - val_recall_2: 0.8455 - val_precision_2: 0.5371 - val_iou: 0.4554\n",
            "Epoch 17/20\n",
            "40/40 [==============================] - 68s 2s/step - loss: 0.2106 - acc: 0.9212 - recall_2: 0.7631 - precision_2: 0.8614 - iou: 0.5514 - val_loss: 0.5610 - val_acc: 0.8127 - val_recall_2: 0.8552 - val_precision_2: 0.5451 - val_iou: 0.4615\n",
            "Epoch 18/20\n",
            "40/40 [==============================] - 68s 2s/step - loss: 0.2105 - acc: 0.9211 - recall_2: 0.7634 - precision_2: 0.8610 - iou: 0.5514 - val_loss: 0.5460 - val_acc: 0.8197 - val_recall_2: 0.8573 - val_precision_2: 0.5564 - val_iou: 0.4670\n",
            "Epoch 19/20\n",
            "40/40 [==============================] - 68s 2s/step - loss: 0.2103 - acc: 0.9213 - recall_2: 0.7636 - precision_2: 0.8614 - iou: 0.5517 - val_loss: 0.5330 - val_acc: 0.8252 - val_recall_2: 0.8569 - val_precision_2: 0.5656 - val_iou: 0.4717\n",
            "Epoch 20/20\n",
            "40/40 [==============================] - 68s 2s/step - loss: 0.2102 - acc: 0.9212 - recall_2: 0.7635 - precision_2: 0.8614 - iou: 0.5517 - val_loss: 0.5228 - val_acc: 0.8292 - val_recall_2: 0.8575 - val_precision_2: 0.5725 - val_iou: 0.4756\n"
          ],
          "name": "stdout"
        }
      ]
    },
    {
      "cell_type": "markdown",
      "metadata": {
        "id": "Wx2mEVIn0-iT"
      },
      "source": [
        "___\n",
        "#predict\n",
        "___"
      ]
    },
    {
      "cell_type": "code",
      "metadata": {
        "id": "Wjq0C4nX09mn"
      },
      "source": [
        "from tensorflow.keras.utils import CustomObjectScope\n",
        "from tqdm import tqdm"
      ],
      "execution_count": 59,
      "outputs": []
    },
    {
      "cell_type": "code",
      "metadata": {
        "id": "dJdbonF11tpz"
      },
      "source": [
        "test_dataset = tf_dataset(test_x, test_y)\n",
        " \n",
        "test_steps = (len(test_x)//batch)\n",
        "if len(test_x) % batch != 0:\n",
        "  test_steps += 1"
      ],
      "execution_count": 60,
      "outputs": []
    },
    {
      "cell_type": "code",
      "metadata": {
        "id": "mCcuB_MBDhwz"
      },
      "source": [
        "#reloaded_model = tf.keras.models.load_model('model.h5')"
      ],
      "execution_count": 61,
      "outputs": []
    },
    {
      "cell_type": "code",
      "metadata": {
        "id": "txyX8EeD115-"
      },
      "source": [
        "test_ds = tf_dataset(test_x, test_y)"
      ],
      "execution_count": 64,
      "outputs": []
    },
    {
      "cell_type": "code",
      "metadata": {
        "id": "wWwq_8WO2B5F"
      },
      "source": [
        "test_steps = (len(test_x)//batch)\n",
        "if len(test_x) % batch != 0:\n",
        "  test_steps += 1"
      ],
      "execution_count": 67,
      "outputs": []
    },
    {
      "cell_type": "code",
      "metadata": {
        "colab": {
          "base_uri": "https://localhost:8080/",
          "height": 358
        },
        "id": "eBNJlWgDseeU",
        "outputId": "1f66e478-c930-43ba-b2da-584714daca4e"
      },
      "source": [
        "#model.load_weights('model.h5')"
      ],
      "execution_count": 69,
      "outputs": [
        {
          "output_type": "error",
          "ename": "ValueError",
          "evalue": "ignored",
          "traceback": [
            "\u001b[0;31m---------------------------------------------------------------------------\u001b[0m",
            "\u001b[0;31mValueError\u001b[0m                                Traceback (most recent call last)",
            "\u001b[0;32m<ipython-input-69-62e5e740914a>\u001b[0m in \u001b[0;36m<module>\u001b[0;34m()\u001b[0m\n\u001b[1;32m      1\u001b[0m \u001b[0;31m#model.load_weights('model.h5')\u001b[0m\u001b[0;34m\u001b[0m\u001b[0;34m\u001b[0m\u001b[0;34m\u001b[0m\u001b[0m\n\u001b[1;32m      2\u001b[0m \u001b[0;34m\u001b[0m\u001b[0m\n\u001b[0;32m----> 3\u001b[0;31m \u001b[0mtest_preds\u001b[0m \u001b[0;34m=\u001b[0m \u001b[0mmodel\u001b[0m\u001b[0;34m.\u001b[0m\u001b[0mpredict\u001b[0m\u001b[0;34m(\u001b[0m\u001b[0mtest_ds\u001b[0m\u001b[0;34m,\u001b[0m \u001b[0mtest_steps\u001b[0m\u001b[0;34m)\u001b[0m\u001b[0;34m\u001b[0m\u001b[0;34m\u001b[0m\u001b[0m\n\u001b[0m",
            "\u001b[0;32m/usr/local/lib/python3.6/dist-packages/tensorflow/python/keras/engine/training.py\u001b[0m in \u001b[0;36mpredict\u001b[0;34m(self, x, batch_size, verbose, steps, callbacks, max_queue_size, workers, use_multiprocessing)\u001b[0m\n\u001b[1;32m   1606\u001b[0m           \u001b[0muse_multiprocessing\u001b[0m\u001b[0;34m=\u001b[0m\u001b[0muse_multiprocessing\u001b[0m\u001b[0;34m,\u001b[0m\u001b[0;34m\u001b[0m\u001b[0;34m\u001b[0m\u001b[0m\n\u001b[1;32m   1607\u001b[0m           \u001b[0mmodel\u001b[0m\u001b[0;34m=\u001b[0m\u001b[0mself\u001b[0m\u001b[0;34m,\u001b[0m\u001b[0;34m\u001b[0m\u001b[0;34m\u001b[0m\u001b[0m\n\u001b[0;32m-> 1608\u001b[0;31m           steps_per_execution=self._steps_per_execution)\n\u001b[0m\u001b[1;32m   1609\u001b[0m \u001b[0;34m\u001b[0m\u001b[0m\n\u001b[1;32m   1610\u001b[0m       \u001b[0;31m# Container that configures and calls `tf.keras.Callback`s.\u001b[0m\u001b[0;34m\u001b[0m\u001b[0;34m\u001b[0m\u001b[0;34m\u001b[0m\u001b[0m\n",
            "\u001b[0;32m/usr/local/lib/python3.6/dist-packages/tensorflow/python/keras/engine/data_adapter.py\u001b[0m in \u001b[0;36m__init__\u001b[0;34m(self, x, y, sample_weight, batch_size, steps_per_epoch, initial_epoch, epochs, shuffle, class_weight, max_queue_size, workers, use_multiprocessing, model, steps_per_execution)\u001b[0m\n\u001b[1;32m   1110\u001b[0m         \u001b[0muse_multiprocessing\u001b[0m\u001b[0;34m=\u001b[0m\u001b[0muse_multiprocessing\u001b[0m\u001b[0;34m,\u001b[0m\u001b[0;34m\u001b[0m\u001b[0;34m\u001b[0m\u001b[0m\n\u001b[1;32m   1111\u001b[0m         \u001b[0mdistribution_strategy\u001b[0m\u001b[0;34m=\u001b[0m\u001b[0mds_context\u001b[0m\u001b[0;34m.\u001b[0m\u001b[0mget_strategy\u001b[0m\u001b[0;34m(\u001b[0m\u001b[0;34m)\u001b[0m\u001b[0;34m,\u001b[0m\u001b[0;34m\u001b[0m\u001b[0;34m\u001b[0m\u001b[0m\n\u001b[0;32m-> 1112\u001b[0;31m         model=model)\n\u001b[0m\u001b[1;32m   1113\u001b[0m \u001b[0;34m\u001b[0m\u001b[0m\n\u001b[1;32m   1114\u001b[0m     \u001b[0mstrategy\u001b[0m \u001b[0;34m=\u001b[0m \u001b[0mds_context\u001b[0m\u001b[0;34m.\u001b[0m\u001b[0mget_strategy\u001b[0m\u001b[0;34m(\u001b[0m\u001b[0;34m)\u001b[0m\u001b[0;34m\u001b[0m\u001b[0;34m\u001b[0m\u001b[0m\n",
            "\u001b[0;32m/usr/local/lib/python3.6/dist-packages/tensorflow/python/keras/engine/data_adapter.py\u001b[0m in \u001b[0;36m__init__\u001b[0;34m(self, x, y, sample_weights, steps, **kwargs)\u001b[0m\n\u001b[1;32m    691\u001b[0m     \u001b[0mself\u001b[0m\u001b[0;34m.\u001b[0m\u001b[0m_user_steps\u001b[0m \u001b[0;34m=\u001b[0m \u001b[0msteps\u001b[0m\u001b[0;34m\u001b[0m\u001b[0;34m\u001b[0m\u001b[0m\n\u001b[1;32m    692\u001b[0m \u001b[0;34m\u001b[0m\u001b[0m\n\u001b[0;32m--> 693\u001b[0;31m     \u001b[0mself\u001b[0m\u001b[0;34m.\u001b[0m\u001b[0m_validate_args\u001b[0m\u001b[0;34m(\u001b[0m\u001b[0my\u001b[0m\u001b[0;34m,\u001b[0m \u001b[0msample_weights\u001b[0m\u001b[0;34m,\u001b[0m \u001b[0msteps\u001b[0m\u001b[0;34m)\u001b[0m\u001b[0;34m\u001b[0m\u001b[0;34m\u001b[0m\u001b[0m\n\u001b[0m\u001b[1;32m    694\u001b[0m \u001b[0;34m\u001b[0m\u001b[0m\n\u001b[1;32m    695\u001b[0m   \u001b[0;32mdef\u001b[0m \u001b[0mget_dataset\u001b[0m\u001b[0;34m(\u001b[0m\u001b[0mself\u001b[0m\u001b[0;34m)\u001b[0m\u001b[0;34m:\u001b[0m\u001b[0;34m\u001b[0m\u001b[0;34m\u001b[0m\u001b[0m\n",
            "\u001b[0;32m/usr/local/lib/python3.6/dist-packages/tensorflow/python/keras/engine/data_adapter.py\u001b[0m in \u001b[0;36m_validate_args\u001b[0;34m(self, y, sample_weights, steps)\u001b[0m\n\u001b[1;32m    738\u001b[0m       \u001b[0;32mif\u001b[0m \u001b[0msize\u001b[0m \u001b[0;34m==\u001b[0m \u001b[0mcardinality\u001b[0m\u001b[0;34m.\u001b[0m\u001b[0mINFINITE\u001b[0m \u001b[0;32mand\u001b[0m \u001b[0msteps\u001b[0m \u001b[0;32mis\u001b[0m \u001b[0;32mNone\u001b[0m\u001b[0;34m:\u001b[0m\u001b[0;34m\u001b[0m\u001b[0;34m\u001b[0m\u001b[0m\n\u001b[1;32m    739\u001b[0m         raise ValueError(\n\u001b[0;32m--> 740\u001b[0;31m             \u001b[0;34m\"When providing an infinite dataset, you must specify \"\u001b[0m\u001b[0;34m\u001b[0m\u001b[0;34m\u001b[0m\u001b[0m\n\u001b[0m\u001b[1;32m    741\u001b[0m             \u001b[0;34m\"the number of steps to run (if you did not intend to \"\u001b[0m\u001b[0;34m\u001b[0m\u001b[0;34m\u001b[0m\u001b[0m\n\u001b[1;32m    742\u001b[0m             \u001b[0;34m\"create an infinite dataset, make sure to not call \"\u001b[0m\u001b[0;34m\u001b[0m\u001b[0;34m\u001b[0m\u001b[0m\n",
            "\u001b[0;31mValueError\u001b[0m: When providing an infinite dataset, you must specify the number of steps to run (if you did not intend to create an infinite dataset, make sure to not call `repeat()` on the dataset)."
          ]
        }
      ]
    },
    {
      "cell_type": "code",
      "metadata": {
        "id": "89qwT6YBscxk"
      },
      "source": [
        "def mask_parse(mask):\n",
        "     mask = np.squeeze(mask)\n",
        "     mask = [mask, mask]\n",
        "     mask = np.transpose(mask, (1, 2, 0))\n",
        "     return mask\n",
        "\n",
        "def read_image(path):\n",
        "     x = cv2.imread(path, cv2.IMREAD_COLOR)\n",
        "     x = cv2.resize(x, (0,0), fx=0.5, fy=0.5)\n",
        "     x = x/255.0\n",
        "     return x\n",
        "\n",
        "def read_mask(path):\n",
        "     x = cv2.imread(path, cv2.IMREAD_GRAYSCALE)\n",
        "     #x = cv2.resize(x, (256, 256))\n",
        "     x = np.expand_dims(x, axis=-1)\n",
        "     return x"
      ],
      "execution_count": 90,
      "outputs": []
    },
    {
      "cell_type": "code",
      "metadata": {
        "colab": {
          "base_uri": "https://localhost:8080/"
        },
        "id": "s2nyv7RBrJAB",
        "outputId": "210782b6-1128-4df4-b7de-2eee4d20a227"
      },
      "source": [
        "for i, (x, y) in tqdm(enumerate(zip(test_x, test_y)), total=len(test_x)):\n",
        "  x = read_image(x)\n",
        "  y = read_mask(y)\n",
        "  y_pred = model.predict(np.expand_dims(x, axis=0))[0] > 0.5\n",
        "  y_pred = y_pred.astype(np.uint8) * 255.0\n",
        "  #print(y_pred)\n",
        "  cv2.imwrite(f\"/content/drive/MyDrive/DIPLOMSKI/code/results/{i}_GT.png\", y)\n",
        "  cv2.imwrite(f\"/content/drive/MyDrive/DIPLOMSKI/code/results/{i}_PRED.png\", y_pred)"
      ],
      "execution_count": 111,
      "outputs": [
        {
          "output_type": "stream",
          "text": [
            "100%|██████████| 20/20 [00:03<00:00,  5.13it/s]\n"
          ],
          "name": "stderr"
        }
      ]
    },
    {
      "cell_type": "code",
      "metadata": {
        "colab": {
          "base_uri": "https://localhost:8080/",
          "height": 164
        },
        "id": "lTJxcNMkaO_8",
        "outputId": "2250af79-f6cb-40da-da9b-603057d33ed6"
      },
      "source": [
        "tf"
      ],
      "execution_count": 2,
      "outputs": [
        {
          "output_type": "error",
          "ename": "NameError",
          "evalue": "ignored",
          "traceback": [
            "\u001b[0;31m---------------------------------------------------------------------------\u001b[0m",
            "\u001b[0;31mNameError\u001b[0m                                 Traceback (most recent call last)",
            "\u001b[0;32m<ipython-input-2-29c4a0afd4b9>\u001b[0m in \u001b[0;36m<module>\u001b[0;34m()\u001b[0m\n\u001b[0;32m----> 1\u001b[0;31m \u001b[0mtf\u001b[0m\u001b[0;34m\u001b[0m\u001b[0;34m\u001b[0m\u001b[0m\n\u001b[0m",
            "\u001b[0;31mNameError\u001b[0m: name 'tf' is not defined"
          ]
        }
      ]
    }
  ]
}