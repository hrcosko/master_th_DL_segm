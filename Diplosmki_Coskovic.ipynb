{
  "nbformat": 4,
  "nbformat_minor": 0,
  "metadata": {
    "colab": {
      "name": "Diplosmki_Coskovic.ipynb",
      "provenance": [],
      "collapsed_sections": [],
      "authorship_tag": "ABX9TyN3Z1ttdu7OTBVG/b9/LJYv",
      "include_colab_link": true
    },
    "kernelspec": {
      "name": "python3",
      "display_name": "Python 3"
    },
    "accelerator": "TPU"
  },
  "cells": [
    {
      "cell_type": "markdown",
      "metadata": {
        "id": "view-in-github",
        "colab_type": "text"
      },
      "source": [
        "<a href=\"https://colab.research.google.com/github/hrcosko/master_th_DL_segm/blob/main/Diplosmki_Coskovic.ipynb\" target=\"_parent\"><img src=\"https://colab.research.google.com/assets/colab-badge.svg\" alt=\"Open In Colab\"/></a>"
      ]
    },
    {
      "cell_type": "code",
      "metadata": {
        "id": "XDI-4_Tvbu0d"
      },
      "source": [
        "# Crash on purpose to get more ram :\n",
        "import torch\n",
        "torch.tensor([10.]*10000000000)"
      ],
      "execution_count": null,
      "outputs": []
    },
    {
      "cell_type": "markdown",
      "metadata": {
        "id": "7s2eCROQSJ0u"
      },
      "source": [
        "___ \n",
        "# data\n",
        "___"
      ]
    },
    {
      "cell_type": "code",
      "metadata": {
        "id": "8yIreRqaCs0R"
      },
      "source": [
        "import os\n",
        "from datetime import datetime\n",
        "import numpy as np\n",
        "import cv2\n",
        "from glob import glob\n",
        "import tensorflow as tf\n",
        "from sklearn.model_selection import train_test_split"
      ],
      "execution_count": null,
      "outputs": []
    },
    {
      "cell_type": "code",
      "metadata": {
        "id": "s7Mb33TeHMFi"
      },
      "source": [
        "%load_ext tensorboard"
      ],
      "execution_count": null,
      "outputs": []
    },
    {
      "cell_type": "code",
      "metadata": {
        "id": "F3aO_nsfDzPw"
      },
      "source": [
        "def load_data(path, split=0.1):\n",
        "    \n",
        "    images = sorted(glob(os.path.join(path, 'MP6843_img/*')))\n",
        "    masks = glob(os.path.join(path, 'MP6843_mask/*'))\n",
        "    masks = masks + masks\n",
        "    masks.sort()\n",
        "\n",
        "    total_size = len(images)\n",
        "    valid_size = int(split * total_size)\n",
        "    test_size = int(split * total_size)\n",
        "\n",
        "    train_x, valid_x = train_test_split(images, test_size=valid_size, random_state=42)\n",
        "    train_y, valid_y = train_test_split(masks, test_size=valid_size, random_state=42)\n",
        "\n",
        "    train_x, test_x = train_test_split(train_x, test_size=test_size, random_state=42)\n",
        "    train_y, test_y = train_test_split(train_y, test_size=test_size, random_state=42)\n",
        "\n",
        "    return (train_x, train_y), (valid_x, valid_y), (test_x, test_y)\n"
      ],
      "execution_count": null,
      "outputs": []
    },
    {
      "cell_type": "code",
      "metadata": {
        "id": "F5qsaT3fD7JM"
      },
      "source": [
        "def read_image(path):\n",
        "    \n",
        "    path = path.decode()\n",
        "    image = cv2.imread(path, cv2.IMREAD_COLOR)\n",
        "    image = cv2.resize(image, (0,0), fx=0.5, fy=0.5)\n",
        "    image = image/255.0\n",
        "    \n",
        "    return image"
      ],
      "execution_count": null,
      "outputs": []
    },
    {
      "cell_type": "code",
      "metadata": {
        "id": "dcCe1_YNEBRv"
      },
      "source": [
        "def read_mask(path):\n",
        "    \n",
        "    path = path.decode()\n",
        "    mask = cv2.imread(path, cv2.IMREAD_GRAYSCALE)\n",
        "    mask = mask/255.0\n",
        "    mask = np.expand_dims(mask, axis=-1)\n",
        "    \n",
        "    return mask"
      ],
      "execution_count": null,
      "outputs": []
    },
    {
      "cell_type": "code",
      "metadata": {
        "id": "y9wewMiaEBs5"
      },
      "source": [
        "def tf_dataset(image, mask, batch=4):\n",
        "\n",
        "    def parse(image, mask):\n",
        "        image = read_image(image)\n",
        "        mask = read_mask(mask)\n",
        "        return image, mask\n",
        "\n",
        "    def tf_parse(image, mask):\n",
        "      image, mask = tf.numpy_function(parse, [image, mask], [tf.float64, tf.float64])\n",
        "      image.set_shape([520, 696, 3])\n",
        "      mask.set_shape([520, 696, 1])\n",
        "      return image, mask\n",
        "    \n",
        "    def data_augment_flip_rl(image, mask):\n",
        "      image, mask = tf.numpy_function(parse, [image, mask], [tf.float64, tf.float64])\n",
        "      modified_image = tf.image.flip_left_right(image)\n",
        "      modified_mask = tf.image.flip_left_right(mask)\n",
        "      modified_image.set_shape([520, 696, 3])\n",
        "      modified_mask.set_shape([520, 696, 1])\n",
        "      return modified_image, modified_mask\n",
        "\n",
        "    def data_augment_flip_up_down(image, mask):\n",
        "      image, mask = tf.numpy_function(parse, [image, mask], [tf.float64, tf.float64])\n",
        "      modified_image = tf.image.flip_up_down(image)\n",
        "      modified_mask = tf.image.flip_up_down(mask)\n",
        "      modified_image.set_shape([520, 696, 3])\n",
        "      modified_mask.set_shape([520, 696, 1])\n",
        "      return modified_image, modified_mask\n",
        "    \n",
        "    #def data_augment_grayscale(image, mask):\n",
        "    #  image, mask = tf.numpy_function(parse, [image, mask], [tf.float64, tf.float64])\n",
        "    #  modified_image = tf.image.rgb_to_grayscale(image)\n",
        "    #  modified_image.set_shape([520, 696, 3])\n",
        "    #  mask.set_shape([520, 696, 1])\n",
        "    #  return modified_image, mask\n",
        "  \n",
        "    def data_augment_saturnate(image, mask):\n",
        "      image, mask = tf.numpy_function(parse, [image, mask], [tf.float64, tf.float64])\n",
        "      modified_image = tf.image.adjust_saturation(image, 3)\n",
        "      modified_image.set_shape([520, 696, 3])\n",
        "      mask.set_shape([520, 696, 1])\n",
        "      return modified_image, mask\n",
        "    \n",
        "    def data_augment_rot(image, mask):\n",
        "      image, mask = tf.numpy_function(parse, [image, mask], [tf.float64, tf.float64])\n",
        "      modified_image = tf.image.rot90(image)\n",
        "      modified_mask = tf.image.rot90(mask)\n",
        "      modified_image = tf.image.rot90(modified_image)\n",
        "      modified_mask = tf.image.rot90(modified_mask)\n",
        "      modified_image.set_shape([520, 696, 3])\n",
        "      modified_mask.set_shape([520, 696, 1])\n",
        "      return modified_image, modified_mask\n",
        "\n",
        "    dataset = tf.data.Dataset.from_tensor_slices((image, mask))\n",
        "    dataset1 = tf.data.Dataset.from_tensor_slices((image, mask))\n",
        "    dataset2 = tf.data.Dataset.from_tensor_slices((image, mask))\n",
        "    dataset3 = tf.data.Dataset.from_tensor_slices((image, mask))\n",
        "    dataset4 = tf.data.Dataset.from_tensor_slices((image, mask))\n",
        "    dataset5 = tf.data.Dataset.from_tensor_slices((image, mask))  \n",
        "    \n",
        "    dataset = dataset.map(tf_parse)\n",
        "    dataset1 = dataset1.map(data_augment_flip_rl)\n",
        "    dataset2 = dataset2.map(data_augment_flip_up_down)\n",
        "    #dataset3 = dataset3.map(data_augment_grayscale)\n",
        "    dataset4 = dataset4.map(data_augment_rot)\n",
        "    dataset5 = dataset5.map(data_augment_saturnate)\n",
        "    \n",
        "    print('DS0: ', dataset.cardinality().numpy(), ' ###### ', dataset)\n",
        "    dataset = dataset.concatenate(dataset1)\n",
        "    print('DS1: ', dataset.cardinality().numpy(), ' ###### ', dataset1)\n",
        "    dataset = dataset.concatenate(dataset2)\n",
        "    print('DS2: ', dataset.cardinality().numpy(), ' ###### ', dataset2)\n",
        "    #dataset = dataset.concatenate(dataset3)\n",
        "    #print('DS3: ', dataset.cardinality().numpy(), ' ###### ', dataset3)\n",
        "    dataset = dataset.concatenate(dataset4)\n",
        "    print('DS4: ', dataset.cardinality().numpy(), ' ###### ', dataset4)\n",
        "    dataset = dataset.concatenate(dataset5)\n",
        "    print('DS5: ', dataset.cardinality().numpy(), ' ###### ', dataset5)\n",
        "    dataset.shuffle(2000)\n",
        "    print('DSshuffle: ', dataset.cardinality().numpy(), ' ###### ', dataset)\n",
        "    dataset = dataset.batch(batch)\n",
        "    print('DSbatch: ', dataset.cardinality().numpy(), ' ###### ', dataset)\n",
        "    #dataset = dataset.repeat()\n",
        "    \n",
        "    return dataset"
      ],
      "execution_count": null,
      "outputs": []
    },
    {
      "cell_type": "code",
      "metadata": {
        "id": "IyqPbHoT9ckC"
      },
      "source": [
        "path = \"/content/drive/MyDrive/DIPLOMSKI/code/dataset/\"\n",
        "(train_x, train_y), (valid_x, valid_y), (test_x, test_y) = load_data(path)"
      ],
      "execution_count": null,
      "outputs": []
    },
    {
      "cell_type": "code",
      "metadata": {
        "id": "4GlRmiU39L7C"
      },
      "source": [
        "#for image, mask in train_dataset.take(1):\n",
        "#  print(\"Image shape: \", image.numpy().shape)\n",
        "#  image = image.numpy()\n",
        "#  image = np.reshape(image, (-1, 520, 696, 3))\n",
        "#  print(\"Label: \", mask.numpy().shape)"
      ],
      "execution_count": null,
      "outputs": []
    },
    {
      "cell_type": "code",
      "metadata": {
        "id": "arXReUnnEEhD"
      },
      "source": [
        "logdir = '/content/drive/MyDrive/DIPLOMSKI/code/logs/'\n",
        "!rm -rf '/content/drive/MyDrive/DIPLOMSKI/code/logs/'"
      ],
      "execution_count": null,
      "outputs": []
    },
    {
      "cell_type": "code",
      "metadata": {
        "id": "2bqmyGtEKcDC"
      },
      "source": [
        "#logdir += 'train_data/' + datetime.now().strftime(\"%Y%m%d-%H%M%S\")\n",
        "#file_writer = tf.summary.create_file_writer(logdir)\n",
        "#\n",
        "#with file_writer.as_default():\n",
        "#  tf.summary.image(\"Training data\", image, step=0)"
      ],
      "execution_count": null,
      "outputs": []
    },
    {
      "cell_type": "code",
      "metadata": {
        "id": "s-JEHjA5FxPR"
      },
      "source": [
        "# %tensorboard --logdir /content/drive/MyDrive/DIPLOMSKI/code/logs/train_data"
      ],
      "execution_count": null,
      "outputs": []
    },
    {
      "cell_type": "markdown",
      "metadata": {
        "id": "ndAts4hvYkpB"
      },
      "source": [
        "___\n",
        "# model\n",
        "___"
      ]
    },
    {
      "cell_type": "code",
      "metadata": {
        "id": "RNDaoVqkYo5Z"
      },
      "source": [
        "from tensorflow.keras.layers import *\n",
        "from tensorflow.keras.models import Model\n",
        "from types import MethodType\n",
        "import keras.backend as K"
      ],
      "execution_count": null,
      "outputs": []
    },
    {
      "cell_type": "code",
      "metadata": {
        "id": "hMKkf2PNJ9xY"
      },
      "source": [
        "def build_model(n_classes=1, input_height=520, input_width=696, \n",
        "                kernel=3, dropout=0.3, pool_size = 2):\n",
        "\n",
        "    ## BlueEncoder\n",
        "    filter_size = 64\n",
        "    img_input = Input(shape=(input_height, input_width, 3))\n",
        "\n",
        "    x = img_input\n",
        "    levels = []\n",
        "    \n",
        "    \n",
        "    x = Conv2D(filter_size, (kernel, kernel), padding='same')(x)\n",
        "    x = BatchNormalization()(x)\n",
        "    x = Activation('relu')(x)\n",
        "    block_input = x\n",
        "    x = Dropout(dropout)(x)\n",
        "    x = Conv2D(filter_size, (kernel, kernel), padding='same')(x)\n",
        "    x = Add()([x, block_input])\n",
        "    x = BatchNormalization()(x)\n",
        "    x = Activation('relu')(x)\n",
        "    levels.append(x)\n",
        "    \n",
        "    x = MaxPooling2D((pool_size, pool_size))(x)\n",
        "    \n",
        "    x = Conv2D(128, (kernel, kernel), padding='same')(x)\n",
        "    x = BatchNormalization()(x)\n",
        "    x = Activation('relu')(x)\n",
        "    block_input = x\n",
        "    x = Dropout(dropout)(x)\n",
        "    x = Conv2D(128, (kernel, kernel), padding='same')(x)\n",
        "    x = Add()([x, block_input])\n",
        "    x = BatchNormalization()(x)\n",
        "    x = Activation('relu')(x)\n",
        "    levels.append(x)\n",
        "    \n",
        "    x = MaxPooling2D((pool_size, pool_size))(x)\n",
        "    \n",
        "    x = Conv2D(256, (kernel, kernel), padding='same')(x)\n",
        "    x = BatchNormalization()(x)\n",
        "    x = Activation('relu')(x)\n",
        "    block_input = x\n",
        "    x = Dropout(dropout)(x)\n",
        "    x = Conv2D(256, (kernel, kernel), padding='same')(x)\n",
        "    x = Add()([x, block_input])\n",
        "    x = BatchNormalization()(x)\n",
        "    x = Activation('relu')(x)\n",
        "    levels.append(x)\n",
        "    \n",
        "    x = MaxPooling2D((pool_size, pool_size))(x)\n",
        "   \n",
        "    x = Conv2D(512, (kernel, kernel), padding='same')(x)\n",
        "    x = BatchNormalization()(x)\n",
        "    x = Activation('relu')(x)\n",
        "    block_input = x\n",
        "    x = Dropout(dropout)(x)\n",
        "    x = Conv2D(512, (kernel, kernel), padding='same')(x)\n",
        "    x = Add()([x, block_input])\n",
        "    x = BatchNormalization()(x)\n",
        "    x = Activation('relu')(x)\n",
        "    aux_f4 = x\n",
        "    x = ZeroPadding2D(((0, 1), (0, 1)))(x)\n",
        "    levels.append(x)\n",
        "    \n",
        "    x = MaxPooling2D((pool_size, pool_size))(x)\n",
        "    \n",
        "    x = Conv2D(1024, (kernel, kernel), padding='same')(x)\n",
        "    x = BatchNormalization()(x)\n",
        "    x = Activation('relu')(x)\n",
        "    block_input = x\n",
        "    x = Dropout(dropout)(x)\n",
        "    x = Conv2D(1024, (kernel, kernel), padding='same')(x)\n",
        "    x = Add()([x, block_input])\n",
        "    x = BatchNormalization()(x)\n",
        "    x = Activation('relu')(x)\n",
        "    levels.append(x)\n",
        "    \n",
        "    [f1, f2, f3, f4, f5] = levels\n",
        "    #for _ in levels:\n",
        "      #print(_)\n",
        "\n",
        "    ### MidYellowDecoder\n",
        "\n",
        "    m1 = Conv2DTranspose(64, kernel_size=(2, 2), strides=(2,2))(f2)\n",
        "    m1 = concatenate([f1, m1], axis=-1)\n",
        "    m1 = Conv2D(64, (3, 3), padding='same')(m1)\n",
        "    m1 = BatchNormalization()(m1)\n",
        "    m1 = Activation('relu')(m1)\n",
        "    m1 = Conv2D(64, (3, 3), padding='same')(m1)\n",
        "    m1 = BatchNormalization()(m1)\n",
        "    m1 = Activation('relu')(m1)\n",
        "    m1 = Dropout(dropout)(m1)\n",
        "\n",
        "    m2 = Conv2DTranspose(128, kernel_size=(2, 2), strides=(2,2))(f3)\n",
        "    m2 = concatenate([f2, m2], axis=-1)\n",
        "    m2 = Conv2D(128, (3, 3), padding='same')(m2)\n",
        "    m2 = BatchNormalization()(m2)\n",
        "    m2 = Activation('relu')(m2)\n",
        "    m2 = Conv2D(128, (3, 3), padding='same')(m2)\n",
        "    m2 = BatchNormalization()(m2)\n",
        "    m2 = Activation('relu')(m2)\n",
        "    m2 = Dropout(dropout)(m2)\n",
        "\n",
        "    m3 = Conv2DTranspose(256, kernel_size=(2, 2), strides=(2,2))(aux_f4)\n",
        "    m3 = concatenate([f3, m3], axis=-1)\n",
        "    m3 = Conv2D(256, (3, 3), padding='same')(m3)\n",
        "    m3 = BatchNormalization()(m3)\n",
        "    m3 = Activation('relu')(m3)\n",
        "    m3 = Conv2D(256, (3, 3), padding='same')(m3)\n",
        "    m3 = BatchNormalization()(m3)\n",
        "    m3 = Activation('relu')(m3)\n",
        "    m3 = Dropout(dropout)(m3)\n",
        "\n",
        "    ### RedNumaDecoder\n",
        "\n",
        "    n1 = Conv2DTranspose(64, kernel_size=(2, 2), strides=(2,2))(m2)\n",
        "    n1 = concatenate([f1, m1, n1], axis=-1)\n",
        "    n1 = Conv2D(64, (3, 3), padding='same')(n1)\n",
        "    n1 = BatchNormalization()(n1)\n",
        "    n1 = Activation('relu')(n1)\n",
        "    n1 = Conv2D(64, (3, 3), padding='same')(n1)\n",
        "    n1 = BatchNormalization()(n1)\n",
        "    n1 = Activation('relu')(n1)\n",
        "    n1 = Dropout(dropout)(n1)\n",
        "\n",
        "    n2 = Conv2DTranspose(128, kernel_size=(2, 2), strides=(2,2))(m3)\n",
        "    n2 = concatenate([f2, m2, n2], axis=-1)\n",
        "    n2 = Conv2D(128, (3, 3), padding='same')(n2)\n",
        "    n2 = BatchNormalization()(n2)\n",
        "    n2 = Activation('relu')(n2)\n",
        "    n2 = Conv2D(128, (3, 3), padding='same')(n2)\n",
        "    n2 = BatchNormalization()(n2)\n",
        "    n2 = Activation('relu')(n2)\n",
        "    n2 = Dropout(dropout)(n2)\n",
        "\n",
        "    ### LonleyDecoder\n",
        "\n",
        "    l1 = Conv2DTranspose(64, kernel_size=(2, 2), strides=(2,2))(n2)\n",
        "    l1 = concatenate([f1, m1, n1, l1], axis=-1)\n",
        "    l1 = Conv2D(64, (3, 3), padding='same')(l1)\n",
        "    l1 = BatchNormalization()(n1)\n",
        "    l1 = Activation('relu')(l1)\n",
        "    l1 = Conv2D(64, (3, 3), padding='same')(l1)\n",
        "    l1 = BatchNormalization()(l1)\n",
        "    l1 = Activation('relu')(l1)\n",
        "    l1 = Dropout(dropout)(l1)\n",
        "\n",
        "\n",
        "    ### GreenOutputDecoder\n",
        "    o = f5\n",
        "    \n",
        "    o = Conv2DTranspose(512, kernel_size=(2, 2), strides=(2,2))(o)\n",
        "    \n",
        "    o = concatenate([o, f4], axis=-1)\n",
        "    o = Conv2D(512, (3, 3), padding='same')(o)\n",
        "    o = BatchNormalization()(o)\n",
        "    o = Activation('relu')(o)\n",
        "    o = Dropout(dropout)(o)\n",
        "    o = Conv2D(512, (3, 3), padding='same')(o)\n",
        "    o = BatchNormalization()(o)\n",
        "    o = Activation('relu')(o)\n",
        "    o = Cropping2D(((0, 1), (0, 1)))(o)\n",
        "    \n",
        "    o = Conv2DTranspose(256, kernel_size=(2, 2), strides=(2,2))(o)\n",
        "        \n",
        "    o = concatenate([o, f3, m3], axis=-1)\n",
        "    o = Conv2D(256, (3, 3), padding='same')(o)\n",
        "    o = BatchNormalization()(o)\n",
        "    o = Activation('relu')(o)\n",
        "    o = Dropout(dropout)(o)\n",
        "    o = Conv2D(256, (3, 3), padding='same')(o)\n",
        "    o = BatchNormalization()(o)\n",
        "    o = Activation('relu')(o)\n",
        "\n",
        "    o = Conv2DTranspose(128, kernel_size=(2, 2), strides=(2,2))(o)\n",
        "\n",
        "    o = concatenate([o, f2, m2, n2], axis=-1)\n",
        "    o = Conv2D(128, (3, 3), padding='same')(o)\n",
        "    o = BatchNormalization()(o)\n",
        "    o = Activation('relu')(o)\n",
        "    o = Dropout(dropout)(o)\n",
        "    o = Conv2D(128, (3, 3), padding='same')(o)\n",
        "    o = BatchNormalization()(o)\n",
        "    o = Activation('relu')(o)\n",
        "\n",
        "    o = Conv2DTranspose(64, kernel_size=(2, 2), strides=(2,2))(o)\n",
        "\n",
        "    o = concatenate([o, f1, m1, n1, l1], axis=-1)\n",
        "    o = Conv2D(64, (3, 3), padding='same')(o)\n",
        "    o = BatchNormalization()(o)\n",
        "    o = Activation('relu')(o)\n",
        "    o = Dropout(dropout)(o)\n",
        "    o = Conv2D(64, (3, 3), padding='same')(o)\n",
        "    o = BatchNormalization()(o)\n",
        "    o = Activation('relu')(o)\n",
        "\n",
        "    ### Output\n",
        "    o = Conv2D(n_classes, (1, 1), padding='same')(o)\n",
        "    o = Activation('sigmoid')(o)\n",
        "    model = Model(img_input, o)\n",
        "    \n",
        "    return model\n",
        "    "
      ],
      "execution_count": null,
      "outputs": []
    },
    {
      "cell_type": "code",
      "metadata": {
        "id": "U7ZlEWDW6HG6",
        "colab": {
          "base_uri": "https://localhost:8080/"
        },
        "outputId": "338dd152-75f7-402f-edcb-9557aa4260e8"
      },
      "source": [
        "model = build_model()\n",
        "model.summary()"
      ],
      "execution_count": null,
      "outputs": [
        {
          "output_type": "stream",
          "text": [
            "Model: \"model\"\n",
            "__________________________________________________________________________________________________\n",
            "Layer (type)                    Output Shape         Param #     Connected to                     \n",
            "==================================================================================================\n",
            "input_1 (InputLayer)            [(None, 520, 696, 3) 0                                            \n",
            "__________________________________________________________________________________________________\n",
            "conv2d (Conv2D)                 (None, 520, 696, 64) 1792        input_1[0][0]                    \n",
            "__________________________________________________________________________________________________\n",
            "batch_normalization (BatchNorma (None, 520, 696, 64) 256         conv2d[0][0]                     \n",
            "__________________________________________________________________________________________________\n",
            "activation (Activation)         (None, 520, 696, 64) 0           batch_normalization[0][0]        \n",
            "__________________________________________________________________________________________________\n",
            "dropout (Dropout)               (None, 520, 696, 64) 0           activation[0][0]                 \n",
            "__________________________________________________________________________________________________\n",
            "conv2d_1 (Conv2D)               (None, 520, 696, 64) 36928       dropout[0][0]                    \n",
            "__________________________________________________________________________________________________\n",
            "add (Add)                       (None, 520, 696, 64) 0           conv2d_1[0][0]                   \n",
            "                                                                 activation[0][0]                 \n",
            "__________________________________________________________________________________________________\n",
            "batch_normalization_1 (BatchNor (None, 520, 696, 64) 256         add[0][0]                        \n",
            "__________________________________________________________________________________________________\n",
            "activation_1 (Activation)       (None, 520, 696, 64) 0           batch_normalization_1[0][0]      \n",
            "__________________________________________________________________________________________________\n",
            "max_pooling2d (MaxPooling2D)    (None, 260, 348, 64) 0           activation_1[0][0]               \n",
            "__________________________________________________________________________________________________\n",
            "conv2d_2 (Conv2D)               (None, 260, 348, 128 73856       max_pooling2d[0][0]              \n",
            "__________________________________________________________________________________________________\n",
            "batch_normalization_2 (BatchNor (None, 260, 348, 128 512         conv2d_2[0][0]                   \n",
            "__________________________________________________________________________________________________\n",
            "activation_2 (Activation)       (None, 260, 348, 128 0           batch_normalization_2[0][0]      \n",
            "__________________________________________________________________________________________________\n",
            "dropout_1 (Dropout)             (None, 260, 348, 128 0           activation_2[0][0]               \n",
            "__________________________________________________________________________________________________\n",
            "conv2d_3 (Conv2D)               (None, 260, 348, 128 147584      dropout_1[0][0]                  \n",
            "__________________________________________________________________________________________________\n",
            "add_1 (Add)                     (None, 260, 348, 128 0           conv2d_3[0][0]                   \n",
            "                                                                 activation_2[0][0]               \n",
            "__________________________________________________________________________________________________\n",
            "batch_normalization_3 (BatchNor (None, 260, 348, 128 512         add_1[0][0]                      \n",
            "__________________________________________________________________________________________________\n",
            "activation_3 (Activation)       (None, 260, 348, 128 0           batch_normalization_3[0][0]      \n",
            "__________________________________________________________________________________________________\n",
            "max_pooling2d_1 (MaxPooling2D)  (None, 130, 174, 128 0           activation_3[0][0]               \n",
            "__________________________________________________________________________________________________\n",
            "conv2d_4 (Conv2D)               (None, 130, 174, 256 295168      max_pooling2d_1[0][0]            \n",
            "__________________________________________________________________________________________________\n",
            "batch_normalization_4 (BatchNor (None, 130, 174, 256 1024        conv2d_4[0][0]                   \n",
            "__________________________________________________________________________________________________\n",
            "activation_4 (Activation)       (None, 130, 174, 256 0           batch_normalization_4[0][0]      \n",
            "__________________________________________________________________________________________________\n",
            "dropout_2 (Dropout)             (None, 130, 174, 256 0           activation_4[0][0]               \n",
            "__________________________________________________________________________________________________\n",
            "conv2d_5 (Conv2D)               (None, 130, 174, 256 590080      dropout_2[0][0]                  \n",
            "__________________________________________________________________________________________________\n",
            "add_2 (Add)                     (None, 130, 174, 256 0           conv2d_5[0][0]                   \n",
            "                                                                 activation_4[0][0]               \n",
            "__________________________________________________________________________________________________\n",
            "batch_normalization_5 (BatchNor (None, 130, 174, 256 1024        add_2[0][0]                      \n",
            "__________________________________________________________________________________________________\n",
            "activation_5 (Activation)       (None, 130, 174, 256 0           batch_normalization_5[0][0]      \n",
            "__________________________________________________________________________________________________\n",
            "max_pooling2d_2 (MaxPooling2D)  (None, 65, 87, 256)  0           activation_5[0][0]               \n",
            "__________________________________________________________________________________________________\n",
            "conv2d_6 (Conv2D)               (None, 65, 87, 512)  1180160     max_pooling2d_2[0][0]            \n",
            "__________________________________________________________________________________________________\n",
            "batch_normalization_6 (BatchNor (None, 65, 87, 512)  2048        conv2d_6[0][0]                   \n",
            "__________________________________________________________________________________________________\n",
            "activation_6 (Activation)       (None, 65, 87, 512)  0           batch_normalization_6[0][0]      \n",
            "__________________________________________________________________________________________________\n",
            "dropout_3 (Dropout)             (None, 65, 87, 512)  0           activation_6[0][0]               \n",
            "__________________________________________________________________________________________________\n",
            "conv2d_7 (Conv2D)               (None, 65, 87, 512)  2359808     dropout_3[0][0]                  \n",
            "__________________________________________________________________________________________________\n",
            "add_3 (Add)                     (None, 65, 87, 512)  0           conv2d_7[0][0]                   \n",
            "                                                                 activation_6[0][0]               \n",
            "__________________________________________________________________________________________________\n",
            "batch_normalization_7 (BatchNor (None, 65, 87, 512)  2048        add_3[0][0]                      \n",
            "__________________________________________________________________________________________________\n",
            "activation_7 (Activation)       (None, 65, 87, 512)  0           batch_normalization_7[0][0]      \n",
            "__________________________________________________________________________________________________\n",
            "zero_padding2d (ZeroPadding2D)  (None, 66, 88, 512)  0           activation_7[0][0]               \n",
            "__________________________________________________________________________________________________\n",
            "max_pooling2d_3 (MaxPooling2D)  (None, 33, 44, 512)  0           zero_padding2d[0][0]             \n",
            "__________________________________________________________________________________________________\n",
            "conv2d_8 (Conv2D)               (None, 33, 44, 1024) 4719616     max_pooling2d_3[0][0]            \n",
            "__________________________________________________________________________________________________\n",
            "batch_normalization_8 (BatchNor (None, 33, 44, 1024) 4096        conv2d_8[0][0]                   \n",
            "__________________________________________________________________________________________________\n",
            "activation_8 (Activation)       (None, 33, 44, 1024) 0           batch_normalization_8[0][0]      \n",
            "__________________________________________________________________________________________________\n",
            "dropout_4 (Dropout)             (None, 33, 44, 1024) 0           activation_8[0][0]               \n",
            "__________________________________________________________________________________________________\n",
            "conv2d_9 (Conv2D)               (None, 33, 44, 1024) 9438208     dropout_4[0][0]                  \n",
            "__________________________________________________________________________________________________\n",
            "add_4 (Add)                     (None, 33, 44, 1024) 0           conv2d_9[0][0]                   \n",
            "                                                                 activation_8[0][0]               \n",
            "__________________________________________________________________________________________________\n",
            "batch_normalization_9 (BatchNor (None, 33, 44, 1024) 4096        add_4[0][0]                      \n",
            "__________________________________________________________________________________________________\n",
            "activation_9 (Activation)       (None, 33, 44, 1024) 0           batch_normalization_9[0][0]      \n",
            "__________________________________________________________________________________________________\n",
            "conv2d_transpose_6 (Conv2DTrans (None, 66, 88, 512)  2097664     activation_9[0][0]               \n",
            "__________________________________________________________________________________________________\n",
            "concatenate_6 (Concatenate)     (None, 66, 88, 1024) 0           conv2d_transpose_6[0][0]         \n",
            "                                                                 zero_padding2d[0][0]             \n",
            "__________________________________________________________________________________________________\n",
            "conv2d_22 (Conv2D)              (None, 66, 88, 512)  4719104     concatenate_6[0][0]              \n",
            "__________________________________________________________________________________________________\n",
            "conv2d_transpose_2 (Conv2DTrans (None, 130, 174, 256 524544      activation_7[0][0]               \n",
            "__________________________________________________________________________________________________\n",
            "batch_normalization_22 (BatchNo (None, 66, 88, 512)  2048        conv2d_22[0][0]                  \n",
            "__________________________________________________________________________________________________\n",
            "concatenate_2 (Concatenate)     (None, 130, 174, 512 0           activation_5[0][0]               \n",
            "                                                                 conv2d_transpose_2[0][0]         \n",
            "__________________________________________________________________________________________________\n",
            "conv2d_transpose_1 (Conv2DTrans (None, 260, 348, 128 131200      activation_5[0][0]               \n",
            "__________________________________________________________________________________________________\n",
            "activation_22 (Activation)      (None, 66, 88, 512)  0           batch_normalization_22[0][0]     \n",
            "__________________________________________________________________________________________________\n",
            "conv2d_14 (Conv2D)              (None, 130, 174, 256 1179904     concatenate_2[0][0]              \n",
            "__________________________________________________________________________________________________\n",
            "concatenate_1 (Concatenate)     (None, 260, 348, 256 0           activation_3[0][0]               \n",
            "                                                                 conv2d_transpose_1[0][0]         \n",
            "__________________________________________________________________________________________________\n",
            "dropout_11 (Dropout)            (None, 66, 88, 512)  0           activation_22[0][0]              \n",
            "__________________________________________________________________________________________________\n",
            "batch_normalization_14 (BatchNo (None, 130, 174, 256 1024        conv2d_14[0][0]                  \n",
            "__________________________________________________________________________________________________\n",
            "conv2d_12 (Conv2D)              (None, 260, 348, 128 295040      concatenate_1[0][0]              \n",
            "__________________________________________________________________________________________________\n",
            "conv2d_23 (Conv2D)              (None, 66, 88, 512)  2359808     dropout_11[0][0]                 \n",
            "__________________________________________________________________________________________________\n",
            "activation_14 (Activation)      (None, 130, 174, 256 0           batch_normalization_14[0][0]     \n",
            "__________________________________________________________________________________________________\n",
            "batch_normalization_12 (BatchNo (None, 260, 348, 128 512         conv2d_12[0][0]                  \n",
            "__________________________________________________________________________________________________\n",
            "conv2d_transpose (Conv2DTranspo (None, 520, 696, 64) 32832       activation_3[0][0]               \n",
            "__________________________________________________________________________________________________\n",
            "batch_normalization_23 (BatchNo (None, 66, 88, 512)  2048        conv2d_23[0][0]                  \n",
            "__________________________________________________________________________________________________\n",
            "conv2d_15 (Conv2D)              (None, 130, 174, 256 590080      activation_14[0][0]              \n",
            "__________________________________________________________________________________________________\n",
            "activation_12 (Activation)      (None, 260, 348, 128 0           batch_normalization_12[0][0]     \n",
            "__________________________________________________________________________________________________\n",
            "concatenate (Concatenate)       (None, 520, 696, 128 0           activation_1[0][0]               \n",
            "                                                                 conv2d_transpose[0][0]           \n",
            "__________________________________________________________________________________________________\n",
            "activation_23 (Activation)      (None, 66, 88, 512)  0           batch_normalization_23[0][0]     \n",
            "__________________________________________________________________________________________________\n",
            "batch_normalization_15 (BatchNo (None, 130, 174, 256 1024        conv2d_15[0][0]                  \n",
            "__________________________________________________________________________________________________\n",
            "conv2d_13 (Conv2D)              (None, 260, 348, 128 147584      activation_12[0][0]              \n",
            "__________________________________________________________________________________________________\n",
            "conv2d_10 (Conv2D)              (None, 520, 696, 64) 73792       concatenate[0][0]                \n",
            "__________________________________________________________________________________________________\n",
            "cropping2d (Cropping2D)         (None, 65, 87, 512)  0           activation_23[0][0]              \n",
            "__________________________________________________________________________________________________\n",
            "activation_15 (Activation)      (None, 130, 174, 256 0           batch_normalization_15[0][0]     \n",
            "__________________________________________________________________________________________________\n",
            "batch_normalization_13 (BatchNo (None, 260, 348, 128 512         conv2d_13[0][0]                  \n",
            "__________________________________________________________________________________________________\n",
            "batch_normalization_10 (BatchNo (None, 520, 696, 64) 256         conv2d_10[0][0]                  \n",
            "__________________________________________________________________________________________________\n",
            "conv2d_transpose_7 (Conv2DTrans (None, 130, 174, 256 524544      cropping2d[0][0]                 \n",
            "__________________________________________________________________________________________________\n",
            "dropout_7 (Dropout)             (None, 130, 174, 256 0           activation_15[0][0]              \n",
            "__________________________________________________________________________________________________\n",
            "activation_13 (Activation)      (None, 260, 348, 128 0           batch_normalization_13[0][0]     \n",
            "__________________________________________________________________________________________________\n",
            "activation_10 (Activation)      (None, 520, 696, 64) 0           batch_normalization_10[0][0]     \n",
            "__________________________________________________________________________________________________\n",
            "concatenate_7 (Concatenate)     (None, 130, 174, 768 0           conv2d_transpose_7[0][0]         \n",
            "                                                                 activation_5[0][0]               \n",
            "                                                                 dropout_7[0][0]                  \n",
            "__________________________________________________________________________________________________\n",
            "dropout_6 (Dropout)             (None, 260, 348, 128 0           activation_13[0][0]              \n",
            "__________________________________________________________________________________________________\n",
            "conv2d_transpose_4 (Conv2DTrans (None, 260, 348, 128 131200      dropout_7[0][0]                  \n",
            "__________________________________________________________________________________________________\n",
            "conv2d_11 (Conv2D)              (None, 520, 696, 64) 36928       activation_10[0][0]              \n",
            "__________________________________________________________________________________________________\n",
            "conv2d_24 (Conv2D)              (None, 130, 174, 256 1769728     concatenate_7[0][0]              \n",
            "__________________________________________________________________________________________________\n",
            "concatenate_4 (Concatenate)     (None, 260, 348, 384 0           activation_3[0][0]               \n",
            "                                                                 dropout_6[0][0]                  \n",
            "                                                                 conv2d_transpose_4[0][0]         \n",
            "__________________________________________________________________________________________________\n",
            "batch_normalization_11 (BatchNo (None, 520, 696, 64) 256         conv2d_11[0][0]                  \n",
            "__________________________________________________________________________________________________\n",
            "batch_normalization_24 (BatchNo (None, 130, 174, 256 1024        conv2d_24[0][0]                  \n",
            "__________________________________________________________________________________________________\n",
            "conv2d_18 (Conv2D)              (None, 260, 348, 128 442496      concatenate_4[0][0]              \n",
            "__________________________________________________________________________________________________\n",
            "activation_11 (Activation)      (None, 520, 696, 64) 0           batch_normalization_11[0][0]     \n",
            "__________________________________________________________________________________________________\n",
            "activation_24 (Activation)      (None, 130, 174, 256 0           batch_normalization_24[0][0]     \n",
            "__________________________________________________________________________________________________\n",
            "batch_normalization_18 (BatchNo (None, 260, 348, 128 512         conv2d_18[0][0]                  \n",
            "__________________________________________________________________________________________________\n",
            "dropout_5 (Dropout)             (None, 520, 696, 64) 0           activation_11[0][0]              \n",
            "__________________________________________________________________________________________________\n",
            "conv2d_transpose_3 (Conv2DTrans (None, 520, 696, 64) 32832       dropout_6[0][0]                  \n",
            "__________________________________________________________________________________________________\n",
            "dropout_12 (Dropout)            (None, 130, 174, 256 0           activation_24[0][0]              \n",
            "__________________________________________________________________________________________________\n",
            "activation_18 (Activation)      (None, 260, 348, 128 0           batch_normalization_18[0][0]     \n",
            "__________________________________________________________________________________________________\n",
            "concatenate_3 (Concatenate)     (None, 520, 696, 192 0           activation_1[0][0]               \n",
            "                                                                 dropout_5[0][0]                  \n",
            "                                                                 conv2d_transpose_3[0][0]         \n",
            "__________________________________________________________________________________________________\n",
            "conv2d_25 (Conv2D)              (None, 130, 174, 256 590080      dropout_12[0][0]                 \n",
            "__________________________________________________________________________________________________\n",
            "conv2d_19 (Conv2D)              (None, 260, 348, 128 147584      activation_18[0][0]              \n",
            "__________________________________________________________________________________________________\n",
            "conv2d_16 (Conv2D)              (None, 520, 696, 64) 110656      concatenate_3[0][0]              \n",
            "__________________________________________________________________________________________________\n",
            "batch_normalization_25 (BatchNo (None, 130, 174, 256 1024        conv2d_25[0][0]                  \n",
            "__________________________________________________________________________________________________\n",
            "batch_normalization_19 (BatchNo (None, 260, 348, 128 512         conv2d_19[0][0]                  \n",
            "__________________________________________________________________________________________________\n",
            "batch_normalization_16 (BatchNo (None, 520, 696, 64) 256         conv2d_16[0][0]                  \n",
            "__________________________________________________________________________________________________\n",
            "activation_25 (Activation)      (None, 130, 174, 256 0           batch_normalization_25[0][0]     \n",
            "__________________________________________________________________________________________________\n",
            "activation_19 (Activation)      (None, 260, 348, 128 0           batch_normalization_19[0][0]     \n",
            "__________________________________________________________________________________________________\n",
            "activation_16 (Activation)      (None, 520, 696, 64) 0           batch_normalization_16[0][0]     \n",
            "__________________________________________________________________________________________________\n",
            "conv2d_transpose_8 (Conv2DTrans (None, 260, 348, 128 131200      activation_25[0][0]              \n",
            "__________________________________________________________________________________________________\n",
            "dropout_9 (Dropout)             (None, 260, 348, 128 0           activation_19[0][0]              \n",
            "__________________________________________________________________________________________________\n",
            "conv2d_17 (Conv2D)              (None, 520, 696, 64) 36928       activation_16[0][0]              \n",
            "__________________________________________________________________________________________________\n",
            "concatenate_8 (Concatenate)     (None, 260, 348, 512 0           conv2d_transpose_8[0][0]         \n",
            "                                                                 activation_3[0][0]               \n",
            "                                                                 dropout_6[0][0]                  \n",
            "                                                                 dropout_9[0][0]                  \n",
            "__________________________________________________________________________________________________\n",
            "batch_normalization_17 (BatchNo (None, 520, 696, 64) 256         conv2d_17[0][0]                  \n",
            "__________________________________________________________________________________________________\n",
            "conv2d_26 (Conv2D)              (None, 260, 348, 128 589952      concatenate_8[0][0]              \n",
            "__________________________________________________________________________________________________\n",
            "activation_17 (Activation)      (None, 520, 696, 64) 0           batch_normalization_17[0][0]     \n",
            "__________________________________________________________________________________________________\n",
            "batch_normalization_26 (BatchNo (None, 260, 348, 128 512         conv2d_26[0][0]                  \n",
            "__________________________________________________________________________________________________\n",
            "dropout_8 (Dropout)             (None, 520, 696, 64) 0           activation_17[0][0]              \n",
            "__________________________________________________________________________________________________\n",
            "activation_26 (Activation)      (None, 260, 348, 128 0           batch_normalization_26[0][0]     \n",
            "__________________________________________________________________________________________________\n",
            "batch_normalization_20 (BatchNo (None, 520, 696, 64) 256         dropout_8[0][0]                  \n",
            "__________________________________________________________________________________________________\n",
            "dropout_13 (Dropout)            (None, 260, 348, 128 0           activation_26[0][0]              \n",
            "__________________________________________________________________________________________________\n",
            "activation_20 (Activation)      (None, 520, 696, 64) 0           batch_normalization_20[0][0]     \n",
            "__________________________________________________________________________________________________\n",
            "conv2d_27 (Conv2D)              (None, 260, 348, 128 147584      dropout_13[0][0]                 \n",
            "__________________________________________________________________________________________________\n",
            "conv2d_21 (Conv2D)              (None, 520, 696, 64) 36928       activation_20[0][0]              \n",
            "__________________________________________________________________________________________________\n",
            "batch_normalization_27 (BatchNo (None, 260, 348, 128 512         conv2d_27[0][0]                  \n",
            "__________________________________________________________________________________________________\n",
            "batch_normalization_21 (BatchNo (None, 520, 696, 64) 256         conv2d_21[0][0]                  \n",
            "__________________________________________________________________________________________________\n",
            "activation_27 (Activation)      (None, 260, 348, 128 0           batch_normalization_27[0][0]     \n",
            "__________________________________________________________________________________________________\n",
            "activation_21 (Activation)      (None, 520, 696, 64) 0           batch_normalization_21[0][0]     \n",
            "__________________________________________________________________________________________________\n",
            "conv2d_transpose_9 (Conv2DTrans (None, 520, 696, 64) 32832       activation_27[0][0]              \n",
            "__________________________________________________________________________________________________\n",
            "dropout_10 (Dropout)            (None, 520, 696, 64) 0           activation_21[0][0]              \n",
            "__________________________________________________________________________________________________\n",
            "concatenate_9 (Concatenate)     (None, 520, 696, 320 0           conv2d_transpose_9[0][0]         \n",
            "                                                                 activation_1[0][0]               \n",
            "                                                                 dropout_5[0][0]                  \n",
            "                                                                 dropout_8[0][0]                  \n",
            "                                                                 dropout_10[0][0]                 \n",
            "__________________________________________________________________________________________________\n",
            "conv2d_28 (Conv2D)              (None, 520, 696, 64) 184384      concatenate_9[0][0]              \n",
            "__________________________________________________________________________________________________\n",
            "batch_normalization_28 (BatchNo (None, 520, 696, 64) 256         conv2d_28[0][0]                  \n",
            "__________________________________________________________________________________________________\n",
            "activation_28 (Activation)      (None, 520, 696, 64) 0           batch_normalization_28[0][0]     \n",
            "__________________________________________________________________________________________________\n",
            "dropout_14 (Dropout)            (None, 520, 696, 64) 0           activation_28[0][0]              \n",
            "__________________________________________________________________________________________________\n",
            "conv2d_29 (Conv2D)              (None, 520, 696, 64) 36928       dropout_14[0][0]                 \n",
            "__________________________________________________________________________________________________\n",
            "batch_normalization_29 (BatchNo (None, 520, 696, 64) 256         conv2d_29[0][0]                  \n",
            "__________________________________________________________________________________________________\n",
            "activation_29 (Activation)      (None, 520, 696, 64) 0           batch_normalization_29[0][0]     \n",
            "__________________________________________________________________________________________________\n",
            "conv2d_30 (Conv2D)              (None, 520, 696, 1)  65          activation_29[0][0]              \n",
            "__________________________________________________________________________________________________\n",
            "activation_30 (Activation)      (None, 520, 696, 1)  0           conv2d_30[0][0]                  \n",
            "==================================================================================================\n",
            "Total params: 36,006,785\n",
            "Trainable params: 35,992,193\n",
            "Non-trainable params: 14,592\n",
            "__________________________________________________________________________________________________\n"
          ],
          "name": "stdout"
        }
      ]
    },
    {
      "cell_type": "code",
      "metadata": {
        "id": "1LH2W-nsmmZi"
      },
      "source": [
        "from tensorflow.keras.utils import plot_model"
      ],
      "execution_count": null,
      "outputs": []
    },
    {
      "cell_type": "code",
      "metadata": {
        "id": "bFrsPY1RnXYY"
      },
      "source": [
        "#dot_img_file = '/content/drive/MyDrive/DIPLOMSKI/code/model_1.png'\n",
        "#tf.keras.utils.plot_model(model, to_file=dot_img_file, show_shapes=True)"
      ],
      "execution_count": null,
      "outputs": []
    },
    {
      "cell_type": "markdown",
      "metadata": {
        "id": "e1lOqwLg6ctN"
      },
      "source": [
        "---\n",
        "# train\n",
        "---\n",
        "\n"
      ]
    },
    {
      "cell_type": "code",
      "metadata": {
        "id": "kbzqs__k6bTi"
      },
      "source": [
        "from tensorflow.keras.callbacks import EarlyStopping, ModelCheckpoint, ReduceLROnPlateau, CSVLogger, TensorBoard"
      ],
      "execution_count": null,
      "outputs": []
    },
    {
      "cell_type": "code",
      "metadata": {
        "id": "-ajy6viEzEeG"
      },
      "source": [
        "def iou(y_true, y_pred):\n",
        "     \n",
        "     def f(y_true, y_pred):\n",
        "         \n",
        "         intersection = (y_true * y_pred).sum()\n",
        "         union = y_true.sum() + y_pred.sum() - intersection\n",
        "         x = (intersection + 1e-15) / (union + 1e-15)\n",
        "         x = x.astype(np.float32)\n",
        "         \n",
        "         return x\n",
        "     \n",
        "     return tf.numpy_function(f, [y_true, y_pred], tf.float32)\n",
        "\n",
        "def dice_coef(y_true, y_pred):\n",
        "    smooth = 1.\n",
        "    y_true_f = K.flatten(y_true)\n",
        "    y_pred_f = K.flatten(y_pred)\n",
        "    intersection = K.sum(y_true_f * y_pred_f)\n",
        "    return (2. * intersection + smooth) / (K.sum(y_true_f) + K.sum(y_pred_f) + smooth)\n",
        "\n",
        "def dice_coef_loss(y_true, y_pred):\n",
        "    return 1. - dice_coef(y_true, y_pred)"
      ],
      "execution_count": null,
      "outputs": []
    },
    {
      "cell_type": "code",
      "metadata": {
        "id": "BorapVm2zi1w"
      },
      "source": [
        "lr = 1e-4 * 3.1415 \n",
        "epochs = 20\n",
        "batch = 2"
      ],
      "execution_count": null,
      "outputs": []
    },
    {
      "cell_type": "code",
      "metadata": {
        "id": "8FLMPd9jzrYU",
        "colab": {
          "base_uri": "https://localhost:8080/"
        },
        "outputId": "7bdcfc5e-7efe-4999-e71d-972f49b43903"
      },
      "source": [
        "train_dataset = tf_dataset(train_x, train_y, batch)\n",
        "valid_dataset = tf_dataset(valid_x, valid_y, batch)"
      ],
      "execution_count": null,
      "outputs": [
        {
          "output_type": "stream",
          "text": [
            "DS0:  160  ######  <MapDataset shapes: ((520, 696, 3), (520, 696, 1)), types: (tf.float64, tf.float64)>\n",
            "DS1:  320  ######  <MapDataset shapes: ((520, 696, 3), (520, 696, 1)), types: (tf.float64, tf.float64)>\n",
            "DS2:  480  ######  <MapDataset shapes: ((520, 696, 3), (520, 696, 1)), types: (tf.float64, tf.float64)>\n",
            "DS4:  640  ######  <MapDataset shapes: ((520, 696, 3), (520, 696, 1)), types: (tf.float64, tf.float64)>\n",
            "DS5:  800  ######  <MapDataset shapes: ((520, 696, 3), (520, 696, 1)), types: (tf.float64, tf.float64)>\n",
            "DSshuffle:  800  ######  <ConcatenateDataset shapes: ((520, 696, 3), (520, 696, 1)), types: (tf.float64, tf.float64)>\n",
            "DSbatch:  400  ######  <BatchDataset shapes: ((None, 520, 696, 3), (None, 520, 696, 1)), types: (tf.float64, tf.float64)>\n",
            "DS0:  20  ######  <MapDataset shapes: ((520, 696, 3), (520, 696, 1)), types: (tf.float64, tf.float64)>\n",
            "DS1:  40  ######  <MapDataset shapes: ((520, 696, 3), (520, 696, 1)), types: (tf.float64, tf.float64)>\n",
            "DS2:  60  ######  <MapDataset shapes: ((520, 696, 3), (520, 696, 1)), types: (tf.float64, tf.float64)>\n",
            "DS4:  80  ######  <MapDataset shapes: ((520, 696, 3), (520, 696, 1)), types: (tf.float64, tf.float64)>\n",
            "DS5:  100  ######  <MapDataset shapes: ((520, 696, 3), (520, 696, 1)), types: (tf.float64, tf.float64)>\n",
            "DSshuffle:  100  ######  <ConcatenateDataset shapes: ((520, 696, 3), (520, 696, 1)), types: (tf.float64, tf.float64)>\n",
            "DSbatch:  50  ######  <BatchDataset shapes: ((None, 520, 696, 3), (None, 520, 696, 1)), types: (tf.float64, tf.float64)>\n"
          ],
          "name": "stdout"
        }
      ]
    },
    {
      "cell_type": "code",
      "metadata": {
        "id": "5ZQpMBxGzriB"
      },
      "source": [
        "model = build_model()\n",
        "\n",
        "opt = tf.keras.optimizers.Adam(lr)\n",
        "metrics = [dice_coef, tf.keras.metrics.Recall(), iou]\n",
        "model.compile(loss=dice_coef_loss, optimizer=opt, metrics=metrics)"
      ],
      "execution_count": null,
      "outputs": []
    },
    {
      "cell_type": "code",
      "metadata": {
        "id": "4AZ_YE3az5XK"
      },
      "source": [
        "callbacks = [\n",
        "          ModelCheckpoint(\"/content/drive/MyDrive/DIPLOMSKI/code/files/model_new.h5\"),\n",
        "          ReduceLROnPlateau(monitor='val_loss', factor=0.1, patience=4),\n",
        "          CSVLogger(\"/content/drive/MyDrive/DIPLOMSKI/code/files/data.csv\"),\n",
        "          TensorBoard()\n",
        "     ]"
      ],
      "execution_count": null,
      "outputs": []
    },
    {
      "cell_type": "code",
      "metadata": {
        "id": "X7A7rELaxNVj"
      },
      "source": [
        "train_steps = train_dataset.cardinality().numpy() \n",
        "valid_steps = valid_dataset.cardinality().numpy() \n",
        "\n",
        "if train_steps % batch != 0:\n",
        "    train_steps += 1\n",
        "\n",
        "if valid_steps % batch != 0:\n",
        "    valid_steps += 1"
      ],
      "execution_count": null,
      "outputs": []
    },
    {
      "cell_type": "code",
      "metadata": {
        "id": "3u7NfOoFyBEH"
      },
      "source": [
        "train_dataset = train_dataset.repeat()\n",
        "valid_dataset = valid_dataset.repeat()"
      ],
      "execution_count": null,
      "outputs": []
    },
    {
      "cell_type": "code",
      "metadata": {
        "id": "X-a5DeZZz5e5",
        "colab": {
          "base_uri": "https://localhost:8080/"
        },
        "outputId": "55336536-b375-4d3f-bad3-064781f742c4"
      },
      "source": [
        "model.fit(train_dataset,\n",
        "    validation_data=valid_dataset,\n",
        "    epochs=epochs,\n",
        "    steps_per_epoch=train_steps,\n",
        "    validation_steps=valid_steps,\n",
        "    callbacks=callbacks)\n",
        "\n",
        "model.save(\"/content/drive/MyDrive/DIPLOMSKI/code/files/saved_model.h5\")"
      ],
      "execution_count": null,
      "outputs": [
        {
          "output_type": "stream",
          "text": [
            "Epoch 1/20\n"
          ],
          "name": "stdout"
        }
      ]
    },
    {
      "cell_type": "code",
      "metadata": {
        "id": "BhtVS1KtdCgF"
      },
      "source": [
        "model.save(\"/content/drive/MyDrive/DIPLOMSKI/code/files/saved_model.h5\")"
      ],
      "execution_count": null,
      "outputs": []
    },
    {
      "cell_type": "markdown",
      "metadata": {
        "id": "Wx2mEVIn0-iT"
      },
      "source": [
        "___\n",
        "#predict\n",
        "___"
      ]
    },
    {
      "cell_type": "code",
      "metadata": {
        "id": "Wjq0C4nX09mn"
      },
      "source": [
        "from tensorflow.keras.utils import CustomObjectScope\n",
        "from tqdm import tqdm"
      ],
      "execution_count": null,
      "outputs": []
    },
    {
      "cell_type": "code",
      "metadata": {
        "id": "mCcuB_MBDhwz"
      },
      "source": [
        "#reloaded_model = tf.keras.models.load_model('/content/drive/MyDrive/DIPLOMSKI/code/model.h5')"
      ],
      "execution_count": null,
      "outputs": []
    },
    {
      "cell_type": "code",
      "metadata": {
        "id": "89qwT6YBscxk"
      },
      "source": [
        "def mask_parse(mask):\n",
        "     mask = np.squeeze(mask)\n",
        "     mask = [mask, mask]\n",
        "     mask = np.transpose(mask, (1, 2, 0))\n",
        "     return mask\n",
        "\n",
        "def read_image(path):\n",
        "     x = cv2.imread(path, cv2.IMREAD_COLOR)\n",
        "     x = cv2.resize(x, (0,0), fx=0.5, fy=0.5)\n",
        "     x = x/255.0\n",
        "     return x\n",
        "\n",
        "def read_mask(path):\n",
        "     x = cv2.imread(path, cv2.IMREAD_GRAYSCALE)\n",
        "     #x = cv2.resize(x, (256, 256))\n",
        "     x = np.expand_dims(x, axis=-1)\n",
        "     return x"
      ],
      "execution_count": null,
      "outputs": []
    },
    {
      "cell_type": "code",
      "metadata": {
        "colab": {
          "base_uri": "https://localhost:8080/"
        },
        "id": "s2nyv7RBrJAB",
        "outputId": "891ef956-e454-4f08-d23f-2c927872b47b"
      },
      "source": [
        "for i, (x, y) in tqdm(enumerate(zip(test_x, test_y)), total=len(test_x)):\n",
        "  x = read_image(x)\n",
        "  y = read_mask(y)\n",
        "  y_pred = model.predict(np.expand_dims(x, axis=0))[0] > 0.5\n",
        "  y_pred = y_pred.astype(np.uint8) * 255.0\n",
        "  print(y_pred)\n",
        "  cv2.imwrite(f\"/content/drive/MyDrive/DIPLOMSKI/code/results/{i}_GT_2021_02_07.png\", y)\n",
        "  cv2.imwrite(f\"/content/drive/MyDrive/DIPLOMSKI/code/results/{i}_PRED_2021_02_07.png\", y_pred)"
      ],
      "execution_count": null,
      "outputs": [
        {
          "output_type": "stream",
          "text": [
            "100%|██████████| 20/20 [00:44<00:00,  2.20s/it]\n"
          ],
          "name": "stderr"
        }
      ]
    },
    {
      "cell_type": "code",
      "metadata": {
        "id": "lTJxcNMkaO_8"
      },
      "source": [
        "#reloaded_model = tf.keras.models.load_model('model.h5')\n",
        "\n",
        "with CustomObjectScope({'iou': iou}):\n",
        "  reloaded_model = tf.keras.models.load_model('/content/drive/MyDrive/DIPLOMSKI/code/files/2021_01_29/saved_model.h5')"
      ],
      "execution_count": null,
      "outputs": []
    },
    {
      "cell_type": "code",
      "metadata": {
        "id": "B88ghfDNzcRG"
      },
      "source": [
        "reloaded_model.summary()"
      ],
      "execution_count": null,
      "outputs": []
    },
    {
      "cell_type": "code",
      "metadata": {
        "id": "yQnf8glGztIg"
      },
      "source": [
        "opt = tf.keras.optimizers.Adam(lr)\n",
        "metrics = [\"acc\", tf.keras.metrics.Recall(), tf.keras.metrics.Precision(), iou]\n",
        "reloaded_model.compile(loss=\"binary_crossentropy\", optimizer=opt, metrics=metrics)"
      ],
      "execution_count": null,
      "outputs": []
    },
    {
      "cell_type": "code",
      "metadata": {
        "colab": {
          "base_uri": "https://localhost:8080/",
          "height": 1000
        },
        "id": "0XwzxMo7ta9c",
        "outputId": "7cf3f9a4-5b2e-4ada-f9a2-e81087a927d9"
      },
      "source": [
        "reloaded_model.fit(train_dataset,\n",
        "    validation_data=valid_dataset,\n",
        "    epochs=50,\n",
        "    steps_per_epoch=train_steps,\n",
        "    validation_steps=valid_steps,\n",
        "    callbacks=callbacks)\n"
      ],
      "execution_count": null,
      "outputs": [
        {
          "output_type": "stream",
          "text": [
            "Epoch 1/50\n",
            "200/200 [==============================] - 930s 4s/step - loss: 0.1713 - acc: 0.9300 - recall: 0.8018 - precision: 0.8625 - iou: 0.6143 - val_loss: 0.4120 - val_acc: 0.8449 - val_recall: 0.3492 - val_precision: 0.8885 - val_iou: 0.2810\n",
            "Epoch 2/50\n",
            "200/200 [==============================] - 385s 2s/step - loss: 0.1660 - acc: 0.9317 - recall: 0.8047 - precision: 0.8676 - iou: 0.6218 - val_loss: 0.3247 - val_acc: 0.8915 - val_recall: 0.7040 - val_precision: 0.7876 - val_iou: 0.3887\n",
            "Epoch 3/50\n",
            "200/200 [==============================] - 383s 2s/step - loss: 0.1641 - acc: 0.9322 - recall: 0.8052 - precision: 0.8693 - iou: 0.6251 - val_loss: 0.3629 - val_acc: 0.8613 - val_recall: 0.8807 - val_precision: 0.6371 - val_iou: 0.4151\n",
            "Epoch 4/50\n",
            "200/200 [==============================] - 383s 2s/step - loss: 0.1604 - acc: 0.9335 - recall: 0.8090 - precision: 0.8719 - iou: 0.6322 - val_loss: 0.4363 - val_acc: 0.8394 - val_recall: 0.3212 - val_precision: 0.8887 - val_iou: 0.2968\n",
            "Epoch 5/50\n",
            "200/200 [==============================] - 385s 2s/step - loss: 0.1582 - acc: 0.9343 - recall: 0.8097 - precision: 0.8748 - iou: 0.6368 - val_loss: 0.3885 - val_acc: 0.8370 - val_recall: 0.8641 - val_precision: 0.5927 - val_iou: 0.4162\n",
            "Epoch 6/50\n",
            "200/200 [==============================] - 384s 2s/step - loss: 0.1543 - acc: 0.9356 - recall: 0.8133 - precision: 0.8776 - iou: 0.6434 - val_loss: 0.8817 - val_acc: 0.8144 - val_recall: 0.1906 - val_precision: 0.8988 - val_iou: 0.1930\n",
            "Epoch 7/50\n",
            "200/200 [==============================] - 384s 2s/step - loss: 0.1477 - acc: 0.9380 - recall: 0.8232 - precision: 0.8803 - iou: 0.6566 - val_loss: 0.2058 - val_acc: 0.9243 - val_recall: 0.8158 - val_precision: 0.8407 - val_iou: 0.6090\n",
            "Epoch 8/50\n",
            "200/200 [==============================] - 385s 2s/step - loss: 0.1424 - acc: 0.9402 - recall: 0.8293 - precision: 0.8849 - iou: 0.6651 - val_loss: 0.2028 - val_acc: 0.9253 - val_recall: 0.8247 - val_precision: 0.8382 - val_iou: 0.6376\n",
            "Epoch 9/50\n",
            "200/200 [==============================] - 386s 2s/step - loss: 0.1407 - acc: 0.9409 - recall: 0.8307 - precision: 0.8866 - iou: 0.6687 - val_loss: 0.2016 - val_acc: 0.9260 - val_recall: 0.8216 - val_precision: 0.8431 - val_iou: 0.6500\n",
            "Epoch 10/50\n",
            "200/200 [==============================] - 384s 2s/step - loss: 0.1393 - acc: 0.9415 - recall: 0.8319 - precision: 0.8883 - iou: 0.6712 - val_loss: 0.2009 - val_acc: 0.9266 - val_recall: 0.8199 - val_precision: 0.8468 - val_iou: 0.6558\n",
            "Epoch 11/50\n",
            "200/200 [==============================] - 385s 2s/step - loss: 0.1382 - acc: 0.9419 - recall: 0.8329 - precision: 0.8891 - iou: 0.6739 - val_loss: 0.2045 - val_acc: 0.9252 - val_recall: 0.8256 - val_precision: 0.8372 - val_iou: 0.6509\n",
            "Epoch 12/50\n",
            "200/200 [==============================] - 385s 2s/step - loss: 0.1371 - acc: 0.9423 - recall: 0.8344 - precision: 0.8899 - iou: 0.6760 - val_loss: 0.2021 - val_acc: 0.9257 - val_recall: 0.8346 - val_precision: 0.8329 - val_iou: 0.6339\n",
            "Epoch 13/50\n",
            "200/200 [==============================] - 385s 2s/step - loss: 0.1362 - acc: 0.9427 - recall: 0.8359 - precision: 0.8906 - iou: 0.6782 - val_loss: 0.2012 - val_acc: 0.9258 - val_recall: 0.8298 - val_precision: 0.8365 - val_iou: 0.6354\n",
            "Epoch 14/50\n",
            "200/200 [==============================] - 385s 2s/step - loss: 0.1352 - acc: 0.9431 - recall: 0.8366 - precision: 0.8914 - iou: 0.6801 - val_loss: 0.2013 - val_acc: 0.9255 - val_recall: 0.8340 - val_precision: 0.8328 - val_iou: 0.6497\n",
            "Epoch 15/50\n",
            "200/200 [==============================] - 384s 2s/step - loss: 0.1342 - acc: 0.9435 - recall: 0.8402 - precision: 0.8902 - iou: 0.6839 - val_loss: 0.2073 - val_acc: 0.9265 - val_recall: 0.8285 - val_precision: 0.8401 - val_iou: 0.6730\n",
            "Epoch 16/50\n",
            "200/200 [==============================] - 384s 2s/step - loss: 0.1337 - acc: 0.9437 - recall: 0.8370 - precision: 0.8938 - iou: 0.6820 - val_loss: 0.2077 - val_acc: 0.9264 - val_recall: 0.8270 - val_precision: 0.8410 - val_iou: 0.6727\n",
            "Epoch 17/50\n",
            "200/200 [==============================] - 384s 2s/step - loss: 0.1336 - acc: 0.9437 - recall: 0.8370 - precision: 0.8941 - iou: 0.6819 - val_loss: 0.2082 - val_acc: 0.9262 - val_recall: 0.8278 - val_precision: 0.8395 - val_iou: 0.6722\n",
            "Epoch 18/50\n",
            "200/200 [==============================] - 384s 2s/step - loss: 0.1335 - acc: 0.9438 - recall: 0.8370 - precision: 0.8942 - iou: 0.6821 - val_loss: 0.2063 - val_acc: 0.9264 - val_recall: 0.8273 - val_precision: 0.8406 - val_iou: 0.6711\n",
            "Epoch 19/50\n",
            "200/200 [==============================] - 384s 2s/step - loss: 0.1335 - acc: 0.9438 - recall: 0.8351 - precision: 0.8958 - iou: 0.6818 - val_loss: 0.2078 - val_acc: 0.9263 - val_recall: 0.8273 - val_precision: 0.8405 - val_iou: 0.6724\n",
            "Epoch 20/50\n",
            "200/200 [==============================] - 384s 2s/step - loss: 0.1334 - acc: 0.9438 - recall: 0.8362 - precision: 0.8951 - iou: 0.6816 - val_loss: 0.2082 - val_acc: 0.9263 - val_recall: 0.8273 - val_precision: 0.8403 - val_iou: 0.6726\n",
            "Epoch 21/50\n",
            "200/200 [==============================] - 383s 2s/step - loss: 0.1332 - acc: 0.9439 - recall: 0.8367 - precision: 0.8951 - iou: 0.6816 - val_loss: 0.2082 - val_acc: 0.9263 - val_recall: 0.8271 - val_precision: 0.8405 - val_iou: 0.6726\n",
            "Epoch 22/50\n",
            "200/200 [==============================] - 383s 2s/step - loss: 0.1334 - acc: 0.9438 - recall: 0.8367 - precision: 0.8948 - iou: 0.6815 - val_loss: 0.2084 - val_acc: 0.9263 - val_recall: 0.8272 - val_precision: 0.8404 - val_iou: 0.6727\n",
            "Epoch 23/50\n",
            "200/200 [==============================] - 382s 2s/step - loss: 0.1333 - acc: 0.9439 - recall: 0.8367 - precision: 0.8948 - iou: 0.6815 - val_loss: 0.2084 - val_acc: 0.9263 - val_recall: 0.8271 - val_precision: 0.8406 - val_iou: 0.6728\n",
            "Epoch 24/50\n",
            "200/200 [==============================] - 383s 2s/step - loss: 0.1334 - acc: 0.9438 - recall: 0.8364 - precision: 0.8950 - iou: 0.6813 - val_loss: 0.2085 - val_acc: 0.9263 - val_recall: 0.8272 - val_precision: 0.8404 - val_iou: 0.6728\n",
            "Epoch 25/50\n",
            "200/200 [==============================] - 383s 2s/step - loss: 0.1333 - acc: 0.9439 - recall: 0.8367 - precision: 0.8949 - iou: 0.6816 - val_loss: 0.2084 - val_acc: 0.9263 - val_recall: 0.8272 - val_precision: 0.8405 - val_iou: 0.6728\n",
            "Epoch 26/50\n",
            " 55/200 [=======>......................] - ETA: 4:22 - loss: 0.1255 - acc: 0.9472 - recall: 0.8462 - precision: 0.9052 - iou: 0.6956"
          ],
          "name": "stdout"
        },
        {
          "output_type": "error",
          "ename": "KeyboardInterrupt",
          "evalue": "ignored",
          "traceback": [
            "\u001b[0;31m---------------------------------------------------------------------------\u001b[0m",
            "\u001b[0;31mKeyboardInterrupt\u001b[0m                         Traceback (most recent call last)",
            "\u001b[0;32m<ipython-input-19-830241c4f00e>\u001b[0m in \u001b[0;36m<module>\u001b[0;34m()\u001b[0m\n\u001b[1;32m      4\u001b[0m     \u001b[0msteps_per_epoch\u001b[0m\u001b[0;34m=\u001b[0m\u001b[0mtrain_steps\u001b[0m\u001b[0;34m,\u001b[0m\u001b[0;34m\u001b[0m\u001b[0;34m\u001b[0m\u001b[0m\n\u001b[1;32m      5\u001b[0m     \u001b[0mvalidation_steps\u001b[0m\u001b[0;34m=\u001b[0m\u001b[0mvalid_steps\u001b[0m\u001b[0;34m,\u001b[0m\u001b[0;34m\u001b[0m\u001b[0;34m\u001b[0m\u001b[0m\n\u001b[0;32m----> 6\u001b[0;31m     callbacks=callbacks)\n\u001b[0m",
            "\u001b[0;32m/usr/local/lib/python3.6/dist-packages/tensorflow/python/keras/engine/training.py\u001b[0m in \u001b[0;36mfit\u001b[0;34m(self, x, y, batch_size, epochs, verbose, callbacks, validation_split, validation_data, shuffle, class_weight, sample_weight, initial_epoch, steps_per_epoch, validation_steps, validation_batch_size, validation_freq, max_queue_size, workers, use_multiprocessing)\u001b[0m\n\u001b[1;32m   1098\u001b[0m                 _r=1):\n\u001b[1;32m   1099\u001b[0m               \u001b[0mcallbacks\u001b[0m\u001b[0;34m.\u001b[0m\u001b[0mon_train_batch_begin\u001b[0m\u001b[0;34m(\u001b[0m\u001b[0mstep\u001b[0m\u001b[0;34m)\u001b[0m\u001b[0;34m\u001b[0m\u001b[0;34m\u001b[0m\u001b[0m\n\u001b[0;32m-> 1100\u001b[0;31m               \u001b[0mtmp_logs\u001b[0m \u001b[0;34m=\u001b[0m \u001b[0mself\u001b[0m\u001b[0;34m.\u001b[0m\u001b[0mtrain_function\u001b[0m\u001b[0;34m(\u001b[0m\u001b[0miterator\u001b[0m\u001b[0;34m)\u001b[0m\u001b[0;34m\u001b[0m\u001b[0;34m\u001b[0m\u001b[0m\n\u001b[0m\u001b[1;32m   1101\u001b[0m               \u001b[0;32mif\u001b[0m \u001b[0mdata_handler\u001b[0m\u001b[0;34m.\u001b[0m\u001b[0mshould_sync\u001b[0m\u001b[0;34m:\u001b[0m\u001b[0;34m\u001b[0m\u001b[0;34m\u001b[0m\u001b[0m\n\u001b[1;32m   1102\u001b[0m                 \u001b[0mcontext\u001b[0m\u001b[0;34m.\u001b[0m\u001b[0masync_wait\u001b[0m\u001b[0;34m(\u001b[0m\u001b[0;34m)\u001b[0m\u001b[0;34m\u001b[0m\u001b[0;34m\u001b[0m\u001b[0m\n",
            "\u001b[0;32m/usr/local/lib/python3.6/dist-packages/tensorflow/python/eager/def_function.py\u001b[0m in \u001b[0;36m__call__\u001b[0;34m(self, *args, **kwds)\u001b[0m\n\u001b[1;32m    826\u001b[0m     \u001b[0mtracing_count\u001b[0m \u001b[0;34m=\u001b[0m \u001b[0mself\u001b[0m\u001b[0;34m.\u001b[0m\u001b[0mexperimental_get_tracing_count\u001b[0m\u001b[0;34m(\u001b[0m\u001b[0;34m)\u001b[0m\u001b[0;34m\u001b[0m\u001b[0;34m\u001b[0m\u001b[0m\n\u001b[1;32m    827\u001b[0m     \u001b[0;32mwith\u001b[0m \u001b[0mtrace\u001b[0m\u001b[0;34m.\u001b[0m\u001b[0mTrace\u001b[0m\u001b[0;34m(\u001b[0m\u001b[0mself\u001b[0m\u001b[0;34m.\u001b[0m\u001b[0m_name\u001b[0m\u001b[0;34m)\u001b[0m \u001b[0;32mas\u001b[0m \u001b[0mtm\u001b[0m\u001b[0;34m:\u001b[0m\u001b[0;34m\u001b[0m\u001b[0;34m\u001b[0m\u001b[0m\n\u001b[0;32m--> 828\u001b[0;31m       \u001b[0mresult\u001b[0m \u001b[0;34m=\u001b[0m \u001b[0mself\u001b[0m\u001b[0;34m.\u001b[0m\u001b[0m_call\u001b[0m\u001b[0;34m(\u001b[0m\u001b[0;34m*\u001b[0m\u001b[0margs\u001b[0m\u001b[0;34m,\u001b[0m \u001b[0;34m**\u001b[0m\u001b[0mkwds\u001b[0m\u001b[0;34m)\u001b[0m\u001b[0;34m\u001b[0m\u001b[0;34m\u001b[0m\u001b[0m\n\u001b[0m\u001b[1;32m    829\u001b[0m       \u001b[0mcompiler\u001b[0m \u001b[0;34m=\u001b[0m \u001b[0;34m\"xla\"\u001b[0m \u001b[0;32mif\u001b[0m \u001b[0mself\u001b[0m\u001b[0;34m.\u001b[0m\u001b[0m_experimental_compile\u001b[0m \u001b[0;32melse\u001b[0m \u001b[0;34m\"nonXla\"\u001b[0m\u001b[0;34m\u001b[0m\u001b[0;34m\u001b[0m\u001b[0m\n\u001b[1;32m    830\u001b[0m       \u001b[0mnew_tracing_count\u001b[0m \u001b[0;34m=\u001b[0m \u001b[0mself\u001b[0m\u001b[0;34m.\u001b[0m\u001b[0mexperimental_get_tracing_count\u001b[0m\u001b[0;34m(\u001b[0m\u001b[0;34m)\u001b[0m\u001b[0;34m\u001b[0m\u001b[0;34m\u001b[0m\u001b[0m\n",
            "\u001b[0;32m/usr/local/lib/python3.6/dist-packages/tensorflow/python/eager/def_function.py\u001b[0m in \u001b[0;36m_call\u001b[0;34m(self, *args, **kwds)\u001b[0m\n\u001b[1;32m    853\u001b[0m       \u001b[0;31m# In this case we have created variables on the first call, so we run the\u001b[0m\u001b[0;34m\u001b[0m\u001b[0;34m\u001b[0m\u001b[0;34m\u001b[0m\u001b[0m\n\u001b[1;32m    854\u001b[0m       \u001b[0;31m# defunned version which is guaranteed to never create variables.\u001b[0m\u001b[0;34m\u001b[0m\u001b[0;34m\u001b[0m\u001b[0;34m\u001b[0m\u001b[0m\n\u001b[0;32m--> 855\u001b[0;31m       \u001b[0;32mreturn\u001b[0m \u001b[0mself\u001b[0m\u001b[0;34m.\u001b[0m\u001b[0m_stateless_fn\u001b[0m\u001b[0;34m(\u001b[0m\u001b[0;34m*\u001b[0m\u001b[0margs\u001b[0m\u001b[0;34m,\u001b[0m \u001b[0;34m**\u001b[0m\u001b[0mkwds\u001b[0m\u001b[0;34m)\u001b[0m  \u001b[0;31m# pylint: disable=not-callable\u001b[0m\u001b[0;34m\u001b[0m\u001b[0;34m\u001b[0m\u001b[0m\n\u001b[0m\u001b[1;32m    856\u001b[0m     \u001b[0;32melif\u001b[0m \u001b[0mself\u001b[0m\u001b[0;34m.\u001b[0m\u001b[0m_stateful_fn\u001b[0m \u001b[0;32mis\u001b[0m \u001b[0;32mnot\u001b[0m \u001b[0;32mNone\u001b[0m\u001b[0;34m:\u001b[0m\u001b[0;34m\u001b[0m\u001b[0;34m\u001b[0m\u001b[0m\n\u001b[1;32m    857\u001b[0m       \u001b[0;31m# Release the lock early so that multiple threads can perform the call\u001b[0m\u001b[0;34m\u001b[0m\u001b[0;34m\u001b[0m\u001b[0;34m\u001b[0m\u001b[0m\n",
            "\u001b[0;32m/usr/local/lib/python3.6/dist-packages/tensorflow/python/eager/function.py\u001b[0m in \u001b[0;36m__call__\u001b[0;34m(self, *args, **kwargs)\u001b[0m\n\u001b[1;32m   2941\u001b[0m        filtered_flat_args) = self._maybe_define_function(args, kwargs)\n\u001b[1;32m   2942\u001b[0m     return graph_function._call_flat(\n\u001b[0;32m-> 2943\u001b[0;31m         filtered_flat_args, captured_inputs=graph_function.captured_inputs)  # pylint: disable=protected-access\n\u001b[0m\u001b[1;32m   2944\u001b[0m \u001b[0;34m\u001b[0m\u001b[0m\n\u001b[1;32m   2945\u001b[0m   \u001b[0;34m@\u001b[0m\u001b[0mproperty\u001b[0m\u001b[0;34m\u001b[0m\u001b[0;34m\u001b[0m\u001b[0m\n",
            "\u001b[0;32m/usr/local/lib/python3.6/dist-packages/tensorflow/python/eager/function.py\u001b[0m in \u001b[0;36m_call_flat\u001b[0;34m(self, args, captured_inputs, cancellation_manager)\u001b[0m\n\u001b[1;32m   1917\u001b[0m       \u001b[0;31m# No tape is watching; skip to running the function.\u001b[0m\u001b[0;34m\u001b[0m\u001b[0;34m\u001b[0m\u001b[0;34m\u001b[0m\u001b[0m\n\u001b[1;32m   1918\u001b[0m       return self._build_call_outputs(self._inference_function.call(\n\u001b[0;32m-> 1919\u001b[0;31m           ctx, args, cancellation_manager=cancellation_manager))\n\u001b[0m\u001b[1;32m   1920\u001b[0m     forward_backward = self._select_forward_and_backward_functions(\n\u001b[1;32m   1921\u001b[0m         \u001b[0margs\u001b[0m\u001b[0;34m,\u001b[0m\u001b[0;34m\u001b[0m\u001b[0;34m\u001b[0m\u001b[0m\n",
            "\u001b[0;32m/usr/local/lib/python3.6/dist-packages/tensorflow/python/eager/function.py\u001b[0m in \u001b[0;36mcall\u001b[0;34m(self, ctx, args, cancellation_manager)\u001b[0m\n\u001b[1;32m    558\u001b[0m               \u001b[0minputs\u001b[0m\u001b[0;34m=\u001b[0m\u001b[0margs\u001b[0m\u001b[0;34m,\u001b[0m\u001b[0;34m\u001b[0m\u001b[0;34m\u001b[0m\u001b[0m\n\u001b[1;32m    559\u001b[0m               \u001b[0mattrs\u001b[0m\u001b[0;34m=\u001b[0m\u001b[0mattrs\u001b[0m\u001b[0;34m,\u001b[0m\u001b[0;34m\u001b[0m\u001b[0;34m\u001b[0m\u001b[0m\n\u001b[0;32m--> 560\u001b[0;31m               ctx=ctx)\n\u001b[0m\u001b[1;32m    561\u001b[0m         \u001b[0;32melse\u001b[0m\u001b[0;34m:\u001b[0m\u001b[0;34m\u001b[0m\u001b[0;34m\u001b[0m\u001b[0m\n\u001b[1;32m    562\u001b[0m           outputs = execute.execute_with_cancellation(\n",
            "\u001b[0;32m/usr/local/lib/python3.6/dist-packages/tensorflow/python/eager/execute.py\u001b[0m in \u001b[0;36mquick_execute\u001b[0;34m(op_name, num_outputs, inputs, attrs, ctx, name)\u001b[0m\n\u001b[1;32m     58\u001b[0m     \u001b[0mctx\u001b[0m\u001b[0;34m.\u001b[0m\u001b[0mensure_initialized\u001b[0m\u001b[0;34m(\u001b[0m\u001b[0;34m)\u001b[0m\u001b[0;34m\u001b[0m\u001b[0;34m\u001b[0m\u001b[0m\n\u001b[1;32m     59\u001b[0m     tensors = pywrap_tfe.TFE_Py_Execute(ctx._handle, device_name, op_name,\n\u001b[0;32m---> 60\u001b[0;31m                                         inputs, attrs, num_outputs)\n\u001b[0m\u001b[1;32m     61\u001b[0m   \u001b[0;32mexcept\u001b[0m \u001b[0mcore\u001b[0m\u001b[0;34m.\u001b[0m\u001b[0m_NotOkStatusException\u001b[0m \u001b[0;32mas\u001b[0m \u001b[0me\u001b[0m\u001b[0;34m:\u001b[0m\u001b[0;34m\u001b[0m\u001b[0;34m\u001b[0m\u001b[0m\n\u001b[1;32m     62\u001b[0m     \u001b[0;32mif\u001b[0m \u001b[0mname\u001b[0m \u001b[0;32mis\u001b[0m \u001b[0;32mnot\u001b[0m \u001b[0;32mNone\u001b[0m\u001b[0;34m:\u001b[0m\u001b[0;34m\u001b[0m\u001b[0;34m\u001b[0m\u001b[0m\n",
            "\u001b[0;31mKeyboardInterrupt\u001b[0m: "
          ]
        }
      ]
    },
    {
      "cell_type": "code",
      "metadata": {
        "id": "hX6JG6gSJdrA",
        "colab": {
          "base_uri": "https://localhost:8080/",
          "height": 164
        },
        "outputId": "60a461bf-442d-4c49-e662-f896973f8d3d"
      },
      "source": [
        "reloaded_model.save(\"/content/drive/MyDrive/DIPLOMSKI/code/files/saved_model.h5\")"
      ],
      "execution_count": null,
      "outputs": [
        {
          "output_type": "error",
          "ename": "NameError",
          "evalue": "ignored",
          "traceback": [
            "\u001b[0;31m---------------------------------------------------------------------------\u001b[0m",
            "\u001b[0;31mNameError\u001b[0m                                 Traceback (most recent call last)",
            "\u001b[0;32m<ipython-input-13-ac8291b9c257>\u001b[0m in \u001b[0;36m<module>\u001b[0;34m()\u001b[0m\n\u001b[0;32m----> 1\u001b[0;31m \u001b[0mreloaded_model\u001b[0m\u001b[0;34m.\u001b[0m\u001b[0msave\u001b[0m\u001b[0;34m(\u001b[0m\u001b[0;34m\"/content/drive/MyDrive/DIPLOMSKI/code/files/saved_model.h5\"\u001b[0m\u001b[0;34m)\u001b[0m\u001b[0;34m\u001b[0m\u001b[0;34m\u001b[0m\u001b[0m\n\u001b[0m",
            "\u001b[0;31mNameError\u001b[0m: name 'reloaded_model' is not defined"
          ]
        }
      ]
    },
    {
      "cell_type": "markdown",
      "metadata": {
        "id": "PHb2HlNnpb-S"
      },
      "source": [
        "# evaluate"
      ]
    },
    {
      "cell_type": "code",
      "metadata": {
        "colab": {
          "base_uri": "https://localhost:8080/"
        },
        "id": "QuGBDrQjpgqa",
        "outputId": "65e8fafb-ae8f-4409-900c-54e81dd24e9e"
      },
      "source": [
        "evaluate_dataset = tf_dataset(test_x, test_y, batch=1)"
      ],
      "execution_count": null,
      "outputs": [
        {
          "output_type": "stream",
          "text": [
            "DS0:  20  ######  <MapDataset shapes: ((520, 696, 3), (520, 696, 1)), types: (tf.float64, tf.float64)>\n",
            "DS1:  40  ######  <MapDataset shapes: ((520, 696, 3), (520, 696, 1)), types: (tf.float64, tf.float64)>\n",
            "DS2:  60  ######  <MapDataset shapes: ((520, 696, 3), (520, 696, 1)), types: (tf.float64, tf.float64)>\n",
            "DS4:  80  ######  <MapDataset shapes: ((520, 696, 3), (520, 696, 1)), types: (tf.float64, tf.float64)>\n",
            "DS5:  100  ######  <MapDataset shapes: ((520, 696, 3), (520, 696, 1)), types: (tf.float64, tf.float64)>\n",
            "DSshuffle:  100  ######  <ConcatenateDataset shapes: ((520, 696, 3), (520, 696, 1)), types: (tf.float64, tf.float64)>\n",
            "DSbatch:  100  ######  <BatchDataset shapes: ((None, 520, 696, 3), (None, 520, 696, 1)), types: (tf.float64, tf.float64)>\n"
          ],
          "name": "stdout"
        }
      ]
    },
    {
      "cell_type": "code",
      "metadata": {
        "id": "sxQZ3Le_q2v-"
      },
      "source": [
        "with CustomObjectScope({'iou': iou}):\n",
        "  reloaded_model = tf.keras.models.load_model('/content/drive/MyDrive/DIPLOMSKI/code/files/2021_02_06/model_new.h5')"
      ],
      "execution_count": null,
      "outputs": []
    },
    {
      "cell_type": "code",
      "metadata": {
        "id": "z7PnpNi21d4D"
      },
      "source": [
        "opt = tf.keras.optimizers.Adam(lr)\n",
        "metrics = [\"acc\", tf.keras.metrics.Recall(), tf.keras.metrics.Precision(), iou, dice_coef]\n",
        "reloaded_model.compile(loss=[\"binary_crossentropy\", dice_coef_loss], optimizer=opt, metrics=metrics)"
      ],
      "execution_count": null,
      "outputs": []
    },
    {
      "cell_type": "code",
      "metadata": {
        "colab": {
          "base_uri": "https://localhost:8080/"
        },
        "id": "97JjGhyv5bvp",
        "outputId": "4d662a13-1e63-480e-efa4-198cb1454e20"
      },
      "source": [
        "reloaded_model.fit(train_dataset,\n",
        "    validation_data=valid_dataset,\n",
        "    epochs=10,\n",
        "    steps_per_epoch=train_steps,\n",
        "    validation_steps=valid_steps,\n",
        "    callbacks=callbacks)"
      ],
      "execution_count": null,
      "outputs": [
        {
          "output_type": "stream",
          "text": [
            "Epoch 1/10\n",
            "800/800 [==============================] - 1206s 1s/step - loss: 0.1566 - acc: 0.9347 - recall_1: 0.8095 - precision_1: 0.8773 - iou: 0.6525 - dice_coef: 0.7783 - val_loss: 0.4438 - val_acc: 0.8395 - val_recall_1: 0.3101 - val_precision_1: 0.8714 - val_iou: 0.2885 - val_dice_coef: 0.4277\n",
            "Epoch 2/10\n",
            "800/800 [==============================] - 827s 1s/step - loss: 0.1574 - acc: 0.9344 - recall_1: 0.8059 - precision_1: 0.8791 - iou: 0.6517 - dice_coef: 0.7775 - val_loss: 0.3592 - val_acc: 0.8694 - val_recall_1: 0.6385 - val_precision_1: 0.7293 - val_iou: 0.3536 - val_dice_coef: 0.5148\n",
            "Epoch 3/10\n",
            "800/800 [==============================] - 828s 1s/step - loss: 0.1527 - acc: 0.9363 - recall_1: 0.8109 - precision_1: 0.8830 - iou: 0.6588 - dice_coef: 0.7827 - val_loss: 0.5229 - val_acc: 0.8291 - val_recall_1: 0.3436 - val_precision_1: 0.7303 - val_iou: 0.2781 - val_dice_coef: 0.4164\n",
            "Epoch 4/10\n",
            "800/800 [==============================] - 826s 1s/step - loss: 0.1499 - acc: 0.9372 - recall_1: 0.8128 - precision_1: 0.8855 - iou: 0.6646 - dice_coef: 0.7871 - val_loss: 0.3669 - val_acc: 0.8687 - val_recall_1: 0.5576 - val_precision_1: 0.7776 - val_iou: 0.4201 - val_dice_coef: 0.5786\n",
            "Epoch 5/10\n",
            "800/800 [==============================] - 825s 1s/step - loss: 0.1477 - acc: 0.9380 - recall_1: 0.8153 - precision_1: 0.8870 - iou: 0.6686 - dice_coef: 0.7901 - val_loss: 0.5555 - val_acc: 0.8187 - val_recall_1: 0.2378 - val_precision_1: 0.7752 - val_iou: 0.2350 - val_dice_coef: 0.3702\n",
            "Epoch 6/10\n",
            "800/800 [==============================] - 825s 1s/step - loss: 0.1451 - acc: 0.9392 - recall_1: 0.8188 - precision_1: 0.8893 - iou: 0.6727 - dice_coef: 0.7933 - val_loss: 0.6657 - val_acc: 0.8067 - val_recall_1: 0.2297 - val_precision_1: 0.6653 - val_iou: 0.2132 - val_dice_coef: 0.3302\n",
            "Epoch 7/10\n",
            "800/800 [==============================] - 825s 1s/step - loss: 0.1415 - acc: 0.9405 - recall_1: 0.8202 - precision_1: 0.8942 - iou: 0.6792 - dice_coef: 0.7979 - val_loss: 0.2865 - val_acc: 0.9080 - val_recall_1: 0.6932 - val_precision_1: 0.8578 - val_iou: 0.5734 - val_dice_coef: 0.6997\n",
            "Epoch 8/10\n",
            "800/800 [==============================] - 826s 1s/step - loss: 0.1361 - acc: 0.9428 - recall_1: 0.8321 - precision_1: 0.8944 - iou: 0.6900 - dice_coef: 0.8059 - val_loss: 0.2935 - val_acc: 0.9060 - val_recall_1: 0.6961 - val_precision_1: 0.8461 - val_iou: 0.5729 - val_dice_coef: 0.6967\n",
            "Epoch 9/10\n",
            "800/800 [==============================] - 826s 1s/step - loss: 0.1346 - acc: 0.9434 - recall_1: 0.8334 - precision_1: 0.8958 - iou: 0.6926 - dice_coef: 0.8078 - val_loss: 0.2894 - val_acc: 0.9064 - val_recall_1: 0.6992 - val_precision_1: 0.8452 - val_iou: 0.5730 - val_dice_coef: 0.6999\n",
            "Epoch 10/10\n",
            "800/800 [==============================] - 826s 1s/step - loss: 0.1333 - acc: 0.9440 - recall_1: 0.8356 - precision_1: 0.8966 - iou: 0.6954 - dice_coef: 0.8099 - val_loss: 0.2889 - val_acc: 0.9049 - val_recall_1: 0.6988 - val_precision_1: 0.8387 - val_iou: 0.5645 - val_dice_coef: 0.6929\n"
          ],
          "name": "stdout"
        },
        {
          "output_type": "execute_result",
          "data": {
            "text/plain": [
              "<tensorflow.python.keras.callbacks.History at 0x7fdd91bed390>"
            ]
          },
          "metadata": {
            "tags": []
          },
          "execution_count": 47
        }
      ]
    },
    {
      "cell_type": "code",
      "metadata": {
        "colab": {
          "base_uri": "https://localhost:8080/",
          "height": 392
        },
        "id": "OJYWmSgacjyT",
        "outputId": "04ae0f69-e9c7-44da-cbe4-c42051273841"
      },
      "source": [
        "for i, (x, y) in tqdm(enumerate(zip(test_x, test_y)), total=len(test_x)):\n",
        "  x = read_image(x)\n",
        "  y = read_mask(y)\n",
        "  y_pred = reloaded_model.predict(np.expand_dims(x, axis=0))[0] > 0.5\n",
        "  y_pred = y_pred.astype(np.uint8) * 255.0\n",
        "  cv2.imwrite(f\"/content/drive/MyDrive/DIPLOMSKI/code/results/{i}_GT_2021_02_07.png\", y)\n",
        "  cv2.imwrite(f\"/content/drive/MyDrive/DIPLOMSKI/code/results/{i}_PRED_2021_02_07.png\", y_pred)"
      ],
      "execution_count": null,
      "outputs": [
        {
          "output_type": "stream",
          "text": [
            "  0%|          | 0/20 [00:00<?, ?it/s]\n"
          ],
          "name": "stderr"
        },
        {
          "output_type": "error",
          "ename": "TypeError",
          "evalue": "ignored",
          "traceback": [
            "\u001b[0;31m---------------------------------------------------------------------------\u001b[0m",
            "\u001b[0;31mTypeError\u001b[0m                                 Traceback (most recent call last)",
            "\u001b[0;32m<ipython-input-68-b2aeea747540>\u001b[0m in \u001b[0;36m<module>\u001b[0;34m()\u001b[0m\n\u001b[1;32m      9\u001b[0m \u001b[0;34m\u001b[0m\u001b[0m\n\u001b[1;32m     10\u001b[0m   \u001b[0;32mif\u001b[0m \u001b[0;34m(\u001b[0m\u001b[0mz\u001b[0m\u001b[0;34m)\u001b[0m\u001b[0;34m:\u001b[0m\u001b[0;34m\u001b[0m\u001b[0;34m\u001b[0m\u001b[0m\n\u001b[0;32m---> 11\u001b[0;31m     \u001b[0mprint\u001b[0m\u001b[0;34m(\u001b[0m\u001b[0mdice_coef\u001b[0m\u001b[0;34m(\u001b[0m\u001b[0my\u001b[0m\u001b[0;34m,\u001b[0m \u001b[0my_pred\u001b[0m\u001b[0;34m.\u001b[0m\u001b[0mastype\u001b[0m\u001b[0;34m(\u001b[0m\u001b[0mnp\u001b[0m\u001b[0;34m.\u001b[0m\u001b[0muint8\u001b[0m\u001b[0;34m)\u001b[0m\u001b[0;34m)\u001b[0m\u001b[0;34m)\u001b[0m\u001b[0;34m\u001b[0m\u001b[0;34m\u001b[0m\u001b[0m\n\u001b[0m\u001b[1;32m     12\u001b[0m     \u001b[0;31m#info_y = np.iinfo(y.dtype)\u001b[0m\u001b[0;34m\u001b[0m\u001b[0;34m\u001b[0m\u001b[0;34m\u001b[0m\u001b[0m\n\u001b[1;32m     13\u001b[0m     \u001b[0;31m#info_y_pred = np.iinfo(y_pred)\u001b[0m\u001b[0;34m\u001b[0m\u001b[0;34m\u001b[0m\u001b[0;34m\u001b[0m\u001b[0m\n",
            "\u001b[0;32m<ipython-input-43-44abdd0d2fea>\u001b[0m in \u001b[0;36mdice_coef\u001b[0;34m(y_true, y_pred)\u001b[0m\n\u001b[1;32m      4\u001b[0m     \u001b[0my_pred_f\u001b[0m \u001b[0;34m=\u001b[0m \u001b[0mK\u001b[0m\u001b[0;34m.\u001b[0m\u001b[0mflatten\u001b[0m\u001b[0;34m(\u001b[0m\u001b[0my_pred\u001b[0m\u001b[0;34m)\u001b[0m\u001b[0;34m\u001b[0m\u001b[0;34m\u001b[0m\u001b[0m\n\u001b[1;32m      5\u001b[0m     \u001b[0mintersection\u001b[0m \u001b[0;34m=\u001b[0m \u001b[0mK\u001b[0m\u001b[0;34m.\u001b[0m\u001b[0msum\u001b[0m\u001b[0;34m(\u001b[0m\u001b[0my_true_f\u001b[0m \u001b[0;34m*\u001b[0m \u001b[0my_pred_f\u001b[0m\u001b[0;34m)\u001b[0m\u001b[0;34m\u001b[0m\u001b[0;34m\u001b[0m\u001b[0m\n\u001b[0;32m----> 6\u001b[0;31m     \u001b[0;32mreturn\u001b[0m \u001b[0;34m(\u001b[0m\u001b[0;36m2.\u001b[0m \u001b[0;34m*\u001b[0m \u001b[0mintersection\u001b[0m \u001b[0;34m+\u001b[0m \u001b[0msmooth\u001b[0m\u001b[0;34m)\u001b[0m \u001b[0;34m/\u001b[0m \u001b[0;34m(\u001b[0m\u001b[0mK\u001b[0m\u001b[0;34m.\u001b[0m\u001b[0msum\u001b[0m\u001b[0;34m(\u001b[0m\u001b[0my_true_f\u001b[0m\u001b[0;34m)\u001b[0m \u001b[0;34m+\u001b[0m \u001b[0mK\u001b[0m\u001b[0;34m.\u001b[0m\u001b[0msum\u001b[0m\u001b[0;34m(\u001b[0m\u001b[0my_pred_f\u001b[0m\u001b[0;34m)\u001b[0m \u001b[0;34m+\u001b[0m \u001b[0msmooth\u001b[0m\u001b[0;34m)\u001b[0m\u001b[0;34m\u001b[0m\u001b[0;34m\u001b[0m\u001b[0m\n\u001b[0m\u001b[1;32m      7\u001b[0m \u001b[0;34m\u001b[0m\u001b[0m\n\u001b[1;32m      8\u001b[0m \u001b[0;32mdef\u001b[0m \u001b[0mdice_coef_loss\u001b[0m\u001b[0;34m(\u001b[0m\u001b[0my_true\u001b[0m\u001b[0;34m,\u001b[0m \u001b[0my_pred\u001b[0m\u001b[0;34m)\u001b[0m\u001b[0;34m:\u001b[0m\u001b[0;34m\u001b[0m\u001b[0;34m\u001b[0m\u001b[0m\n",
            "\u001b[0;32m/usr/local/lib/python3.6/dist-packages/tensorflow/python/ops/math_ops.py\u001b[0m in \u001b[0;36mr_binary_op_wrapper\u001b[0;34m(y, x)\u001b[0m\n\u001b[1;32m   1192\u001b[0m   \u001b[0;32mdef\u001b[0m \u001b[0mr_binary_op_wrapper\u001b[0m\u001b[0;34m(\u001b[0m\u001b[0my\u001b[0m\u001b[0;34m,\u001b[0m \u001b[0mx\u001b[0m\u001b[0;34m)\u001b[0m\u001b[0;34m:\u001b[0m\u001b[0;34m\u001b[0m\u001b[0;34m\u001b[0m\u001b[0m\n\u001b[1;32m   1193\u001b[0m     \u001b[0;32mwith\u001b[0m \u001b[0mops\u001b[0m\u001b[0;34m.\u001b[0m\u001b[0mname_scope\u001b[0m\u001b[0;34m(\u001b[0m\u001b[0;32mNone\u001b[0m\u001b[0;34m,\u001b[0m \u001b[0mop_name\u001b[0m\u001b[0;34m,\u001b[0m \u001b[0;34m[\u001b[0m\u001b[0mx\u001b[0m\u001b[0;34m,\u001b[0m \u001b[0my\u001b[0m\u001b[0;34m]\u001b[0m\u001b[0;34m)\u001b[0m \u001b[0;32mas\u001b[0m \u001b[0mname\u001b[0m\u001b[0;34m:\u001b[0m\u001b[0;34m\u001b[0m\u001b[0;34m\u001b[0m\u001b[0m\n\u001b[0;32m-> 1194\u001b[0;31m       \u001b[0mx\u001b[0m \u001b[0;34m=\u001b[0m \u001b[0mops\u001b[0m\u001b[0;34m.\u001b[0m\u001b[0mconvert_to_tensor\u001b[0m\u001b[0;34m(\u001b[0m\u001b[0mx\u001b[0m\u001b[0;34m,\u001b[0m \u001b[0mdtype\u001b[0m\u001b[0;34m=\u001b[0m\u001b[0my\u001b[0m\u001b[0;34m.\u001b[0m\u001b[0mdtype\u001b[0m\u001b[0;34m.\u001b[0m\u001b[0mbase_dtype\u001b[0m\u001b[0;34m,\u001b[0m \u001b[0mname\u001b[0m\u001b[0;34m=\u001b[0m\u001b[0;34m\"x\"\u001b[0m\u001b[0;34m)\u001b[0m\u001b[0;34m\u001b[0m\u001b[0;34m\u001b[0m\u001b[0m\n\u001b[0m\u001b[1;32m   1195\u001b[0m       \u001b[0;32mreturn\u001b[0m \u001b[0mfunc\u001b[0m\u001b[0;34m(\u001b[0m\u001b[0mx\u001b[0m\u001b[0;34m,\u001b[0m \u001b[0my\u001b[0m\u001b[0;34m,\u001b[0m \u001b[0mname\u001b[0m\u001b[0;34m=\u001b[0m\u001b[0mname\u001b[0m\u001b[0;34m)\u001b[0m\u001b[0;34m\u001b[0m\u001b[0;34m\u001b[0m\u001b[0m\n\u001b[1;32m   1196\u001b[0m \u001b[0;34m\u001b[0m\u001b[0m\n",
            "\u001b[0;32m/usr/local/lib/python3.6/dist-packages/tensorflow/python/profiler/trace.py\u001b[0m in \u001b[0;36mwrapped\u001b[0;34m(*args, **kwargs)\u001b[0m\n\u001b[1;32m    161\u001b[0m         \u001b[0;32mwith\u001b[0m \u001b[0mTrace\u001b[0m\u001b[0;34m(\u001b[0m\u001b[0mtrace_name\u001b[0m\u001b[0;34m,\u001b[0m \u001b[0;34m**\u001b[0m\u001b[0mtrace_kwargs\u001b[0m\u001b[0;34m)\u001b[0m\u001b[0;34m:\u001b[0m\u001b[0;34m\u001b[0m\u001b[0;34m\u001b[0m\u001b[0m\n\u001b[1;32m    162\u001b[0m           \u001b[0;32mreturn\u001b[0m \u001b[0mfunc\u001b[0m\u001b[0;34m(\u001b[0m\u001b[0;34m*\u001b[0m\u001b[0margs\u001b[0m\u001b[0;34m,\u001b[0m \u001b[0;34m**\u001b[0m\u001b[0mkwargs\u001b[0m\u001b[0;34m)\u001b[0m\u001b[0;34m\u001b[0m\u001b[0;34m\u001b[0m\u001b[0m\n\u001b[0;32m--> 163\u001b[0;31m       \u001b[0;32mreturn\u001b[0m \u001b[0mfunc\u001b[0m\u001b[0;34m(\u001b[0m\u001b[0;34m*\u001b[0m\u001b[0margs\u001b[0m\u001b[0;34m,\u001b[0m \u001b[0;34m**\u001b[0m\u001b[0mkwargs\u001b[0m\u001b[0;34m)\u001b[0m\u001b[0;34m\u001b[0m\u001b[0;34m\u001b[0m\u001b[0m\n\u001b[0m\u001b[1;32m    164\u001b[0m \u001b[0;34m\u001b[0m\u001b[0m\n\u001b[1;32m    165\u001b[0m     \u001b[0;32mreturn\u001b[0m \u001b[0mwrapped\u001b[0m\u001b[0;34m\u001b[0m\u001b[0;34m\u001b[0m\u001b[0m\n",
            "\u001b[0;32m/usr/local/lib/python3.6/dist-packages/tensorflow/python/framework/ops.py\u001b[0m in \u001b[0;36mconvert_to_tensor\u001b[0;34m(value, dtype, name, as_ref, preferred_dtype, dtype_hint, ctx, accepted_result_types)\u001b[0m\n\u001b[1;32m   1538\u001b[0m \u001b[0;34m\u001b[0m\u001b[0m\n\u001b[1;32m   1539\u001b[0m     \u001b[0;32mif\u001b[0m \u001b[0mret\u001b[0m \u001b[0;32mis\u001b[0m \u001b[0;32mNone\u001b[0m\u001b[0;34m:\u001b[0m\u001b[0;34m\u001b[0m\u001b[0;34m\u001b[0m\u001b[0m\n\u001b[0;32m-> 1540\u001b[0;31m       \u001b[0mret\u001b[0m \u001b[0;34m=\u001b[0m \u001b[0mconversion_func\u001b[0m\u001b[0;34m(\u001b[0m\u001b[0mvalue\u001b[0m\u001b[0;34m,\u001b[0m \u001b[0mdtype\u001b[0m\u001b[0;34m=\u001b[0m\u001b[0mdtype\u001b[0m\u001b[0;34m,\u001b[0m \u001b[0mname\u001b[0m\u001b[0;34m=\u001b[0m\u001b[0mname\u001b[0m\u001b[0;34m,\u001b[0m \u001b[0mas_ref\u001b[0m\u001b[0;34m=\u001b[0m\u001b[0mas_ref\u001b[0m\u001b[0;34m)\u001b[0m\u001b[0;34m\u001b[0m\u001b[0;34m\u001b[0m\u001b[0m\n\u001b[0m\u001b[1;32m   1541\u001b[0m \u001b[0;34m\u001b[0m\u001b[0m\n\u001b[1;32m   1542\u001b[0m     \u001b[0;32mif\u001b[0m \u001b[0mret\u001b[0m \u001b[0;32mis\u001b[0m \u001b[0mNotImplemented\u001b[0m\u001b[0;34m:\u001b[0m\u001b[0;34m\u001b[0m\u001b[0;34m\u001b[0m\u001b[0m\n",
            "\u001b[0;32m/usr/local/lib/python3.6/dist-packages/tensorflow/python/framework/tensor_conversion_registry.py\u001b[0m in \u001b[0;36m_default_conversion_function\u001b[0;34m(***failed resolving arguments***)\u001b[0m\n\u001b[1;32m     50\u001b[0m \u001b[0;32mdef\u001b[0m \u001b[0m_default_conversion_function\u001b[0m\u001b[0;34m(\u001b[0m\u001b[0mvalue\u001b[0m\u001b[0;34m,\u001b[0m \u001b[0mdtype\u001b[0m\u001b[0;34m,\u001b[0m \u001b[0mname\u001b[0m\u001b[0;34m,\u001b[0m \u001b[0mas_ref\u001b[0m\u001b[0;34m)\u001b[0m\u001b[0;34m:\u001b[0m\u001b[0;34m\u001b[0m\u001b[0;34m\u001b[0m\u001b[0m\n\u001b[1;32m     51\u001b[0m   \u001b[0;32mdel\u001b[0m \u001b[0mas_ref\u001b[0m  \u001b[0;31m# Unused.\u001b[0m\u001b[0;34m\u001b[0m\u001b[0;34m\u001b[0m\u001b[0m\n\u001b[0;32m---> 52\u001b[0;31m   \u001b[0;32mreturn\u001b[0m \u001b[0mconstant_op\u001b[0m\u001b[0;34m.\u001b[0m\u001b[0mconstant\u001b[0m\u001b[0;34m(\u001b[0m\u001b[0mvalue\u001b[0m\u001b[0;34m,\u001b[0m \u001b[0mdtype\u001b[0m\u001b[0;34m,\u001b[0m \u001b[0mname\u001b[0m\u001b[0;34m=\u001b[0m\u001b[0mname\u001b[0m\u001b[0;34m)\u001b[0m\u001b[0;34m\u001b[0m\u001b[0;34m\u001b[0m\u001b[0m\n\u001b[0m\u001b[1;32m     53\u001b[0m \u001b[0;34m\u001b[0m\u001b[0m\n\u001b[1;32m     54\u001b[0m \u001b[0;34m\u001b[0m\u001b[0m\n",
            "\u001b[0;32m/usr/local/lib/python3.6/dist-packages/tensorflow/python/framework/constant_op.py\u001b[0m in \u001b[0;36mconstant\u001b[0;34m(value, dtype, shape, name)\u001b[0m\n\u001b[1;32m    263\u001b[0m   \"\"\"\n\u001b[1;32m    264\u001b[0m   return _constant_impl(value, dtype, shape, name, verify_shape=False,\n\u001b[0;32m--> 265\u001b[0;31m                         allow_broadcast=True)\n\u001b[0m\u001b[1;32m    266\u001b[0m \u001b[0;34m\u001b[0m\u001b[0m\n\u001b[1;32m    267\u001b[0m \u001b[0;34m\u001b[0m\u001b[0m\n",
            "\u001b[0;32m/usr/local/lib/python3.6/dist-packages/tensorflow/python/framework/constant_op.py\u001b[0m in \u001b[0;36m_constant_impl\u001b[0;34m(value, dtype, shape, name, verify_shape, allow_broadcast)\u001b[0m\n\u001b[1;32m    274\u001b[0m       \u001b[0;32mwith\u001b[0m \u001b[0mtrace\u001b[0m\u001b[0;34m.\u001b[0m\u001b[0mTrace\u001b[0m\u001b[0;34m(\u001b[0m\u001b[0;34m\"tf.constant\"\u001b[0m\u001b[0;34m)\u001b[0m\u001b[0;34m:\u001b[0m\u001b[0;34m\u001b[0m\u001b[0;34m\u001b[0m\u001b[0m\n\u001b[1;32m    275\u001b[0m         \u001b[0;32mreturn\u001b[0m \u001b[0m_constant_eager_impl\u001b[0m\u001b[0;34m(\u001b[0m\u001b[0mctx\u001b[0m\u001b[0;34m,\u001b[0m \u001b[0mvalue\u001b[0m\u001b[0;34m,\u001b[0m \u001b[0mdtype\u001b[0m\u001b[0;34m,\u001b[0m \u001b[0mshape\u001b[0m\u001b[0;34m,\u001b[0m \u001b[0mverify_shape\u001b[0m\u001b[0;34m)\u001b[0m\u001b[0;34m\u001b[0m\u001b[0;34m\u001b[0m\u001b[0m\n\u001b[0;32m--> 276\u001b[0;31m     \u001b[0;32mreturn\u001b[0m \u001b[0m_constant_eager_impl\u001b[0m\u001b[0;34m(\u001b[0m\u001b[0mctx\u001b[0m\u001b[0;34m,\u001b[0m \u001b[0mvalue\u001b[0m\u001b[0;34m,\u001b[0m \u001b[0mdtype\u001b[0m\u001b[0;34m,\u001b[0m \u001b[0mshape\u001b[0m\u001b[0;34m,\u001b[0m \u001b[0mverify_shape\u001b[0m\u001b[0;34m)\u001b[0m\u001b[0;34m\u001b[0m\u001b[0;34m\u001b[0m\u001b[0m\n\u001b[0m\u001b[1;32m    277\u001b[0m \u001b[0;34m\u001b[0m\u001b[0m\n\u001b[1;32m    278\u001b[0m   \u001b[0mg\u001b[0m \u001b[0;34m=\u001b[0m \u001b[0mops\u001b[0m\u001b[0;34m.\u001b[0m\u001b[0mget_default_graph\u001b[0m\u001b[0;34m(\u001b[0m\u001b[0;34m)\u001b[0m\u001b[0;34m\u001b[0m\u001b[0;34m\u001b[0m\u001b[0m\n",
            "\u001b[0;32m/usr/local/lib/python3.6/dist-packages/tensorflow/python/framework/constant_op.py\u001b[0m in \u001b[0;36m_constant_eager_impl\u001b[0;34m(ctx, value, dtype, shape, verify_shape)\u001b[0m\n\u001b[1;32m    299\u001b[0m \u001b[0;32mdef\u001b[0m \u001b[0m_constant_eager_impl\u001b[0m\u001b[0;34m(\u001b[0m\u001b[0mctx\u001b[0m\u001b[0;34m,\u001b[0m \u001b[0mvalue\u001b[0m\u001b[0;34m,\u001b[0m \u001b[0mdtype\u001b[0m\u001b[0;34m,\u001b[0m \u001b[0mshape\u001b[0m\u001b[0;34m,\u001b[0m \u001b[0mverify_shape\u001b[0m\u001b[0;34m)\u001b[0m\u001b[0;34m:\u001b[0m\u001b[0;34m\u001b[0m\u001b[0;34m\u001b[0m\u001b[0m\n\u001b[1;32m    300\u001b[0m   \u001b[0;34m\"\"\"Implementation of eager constant.\"\"\"\u001b[0m\u001b[0;34m\u001b[0m\u001b[0;34m\u001b[0m\u001b[0m\n\u001b[0;32m--> 301\u001b[0;31m   \u001b[0mt\u001b[0m \u001b[0;34m=\u001b[0m \u001b[0mconvert_to_eager_tensor\u001b[0m\u001b[0;34m(\u001b[0m\u001b[0mvalue\u001b[0m\u001b[0;34m,\u001b[0m \u001b[0mctx\u001b[0m\u001b[0;34m,\u001b[0m \u001b[0mdtype\u001b[0m\u001b[0;34m)\u001b[0m\u001b[0;34m\u001b[0m\u001b[0;34m\u001b[0m\u001b[0m\n\u001b[0m\u001b[1;32m    302\u001b[0m   \u001b[0;32mif\u001b[0m \u001b[0mshape\u001b[0m \u001b[0;32mis\u001b[0m \u001b[0;32mNone\u001b[0m\u001b[0;34m:\u001b[0m\u001b[0;34m\u001b[0m\u001b[0;34m\u001b[0m\u001b[0m\n\u001b[1;32m    303\u001b[0m     \u001b[0;32mreturn\u001b[0m \u001b[0mt\u001b[0m\u001b[0;34m\u001b[0m\u001b[0;34m\u001b[0m\u001b[0m\n",
            "\u001b[0;32m/usr/local/lib/python3.6/dist-packages/tensorflow/python/framework/constant_op.py\u001b[0m in \u001b[0;36mconvert_to_eager_tensor\u001b[0;34m(value, ctx, dtype)\u001b[0m\n\u001b[1;32m     96\u001b[0m       \u001b[0mdtype\u001b[0m \u001b[0;34m=\u001b[0m \u001b[0mdtypes\u001b[0m\u001b[0;34m.\u001b[0m\u001b[0mas_dtype\u001b[0m\u001b[0;34m(\u001b[0m\u001b[0mdtype\u001b[0m\u001b[0;34m)\u001b[0m\u001b[0;34m.\u001b[0m\u001b[0mas_datatype_enum\u001b[0m\u001b[0;34m\u001b[0m\u001b[0;34m\u001b[0m\u001b[0m\n\u001b[1;32m     97\u001b[0m   \u001b[0mctx\u001b[0m\u001b[0;34m.\u001b[0m\u001b[0mensure_initialized\u001b[0m\u001b[0;34m(\u001b[0m\u001b[0;34m)\u001b[0m\u001b[0;34m\u001b[0m\u001b[0;34m\u001b[0m\u001b[0m\n\u001b[0;32m---> 98\u001b[0;31m   \u001b[0;32mreturn\u001b[0m \u001b[0mops\u001b[0m\u001b[0;34m.\u001b[0m\u001b[0mEagerTensor\u001b[0m\u001b[0;34m(\u001b[0m\u001b[0mvalue\u001b[0m\u001b[0;34m,\u001b[0m \u001b[0mctx\u001b[0m\u001b[0;34m.\u001b[0m\u001b[0mdevice_name\u001b[0m\u001b[0;34m,\u001b[0m \u001b[0mdtype\u001b[0m\u001b[0;34m)\u001b[0m\u001b[0;34m\u001b[0m\u001b[0;34m\u001b[0m\u001b[0m\n\u001b[0m\u001b[1;32m     99\u001b[0m \u001b[0;34m\u001b[0m\u001b[0m\n\u001b[1;32m    100\u001b[0m \u001b[0;34m\u001b[0m\u001b[0m\n",
            "\u001b[0;31mTypeError\u001b[0m: Cannot convert 2.0 to EagerTensor of dtype uint8"
          ]
        }
      ]
    },
    {
      "cell_type": "code",
      "metadata": {
        "colab": {
          "base_uri": "https://localhost:8080/"
        },
        "id": "zBzX650j5ARC",
        "outputId": "ad04da02-e8d2-4a2c-ab18-fef93a14b268"
      },
      "source": [
        "reloaded_model.evaluate(evaluate_dataset)"
      ],
      "execution_count": null,
      "outputs": [
        {
          "output_type": "stream",
          "text": [
            "100/100 [==============================] - 33s 324ms/step - loss: 0.3004 - acc: 0.9019 - recall_1: 0.6103 - precision_1: 0.8713 - iou: 0.4502 - dice_coef: 0.5821\n"
          ],
          "name": "stdout"
        },
        {
          "output_type": "execute_result",
          "data": {
            "text/plain": [
              "[0.300388365983963,\n",
              " 0.9019368886947632,\n",
              " 0.6102603077888489,\n",
              " 0.871268630027771,\n",
              " 0.45023319125175476,\n",
              " 0.5820791721343994]"
            ]
          },
          "metadata": {
            "tags": []
          },
          "execution_count": 48
        }
      ]
    },
    {
      "cell_type": "code",
      "metadata": {
        "colab": {
          "base_uri": "https://localhost:8080/"
        },
        "id": "JOpSfxFElng8",
        "outputId": "7352df63-00ca-4e68-aa59-1508d98243e0"
      },
      "source": [
        "for k in range(20):\n",
        "  #print(k)\n",
        "  y = read_mask(\"/content/drive/MyDrive/DIPLOMSKI/code/results/2021_02_07/\"+ str(k) + \"_GT_2021_02_07.png\")\n",
        "  y_pred = read_mask(\"/content/drive/MyDrive/DIPLOMSKI/code/results/2021_02_07/\"+ str(k) + \"_PRED_2021_02_07.png\")\n",
        "  lenIntersection=0\n",
        "\n",
        "  for i in range(y.shape[0]):\n",
        "      for j in range(y.shape[1]):\n",
        "          if ( np.array_equal(y[i][j],y_pred[i][j]) ):\n",
        "              lenIntersection+=1\n",
        "  \n",
        "  lenimg=y.shape[0]*y.shape[1]\n",
        "  value = (2. * lenIntersection  / (2*lenimg))\n",
        "  print(k, \": \" ,value)"
      ],
      "execution_count": null,
      "outputs": [
        {
          "output_type": "stream",
          "text": [
            "0 :  0.9696396993810787\n",
            "1 :  0.6830293987621574\n",
            "2 :  0.8234720380194518\n",
            "3 :  0.6736958443854996\n",
            "4 :  0.9749198717948718\n",
            "5 :  0.9675480769230769\n",
            "6 :  0.9609913793103448\n",
            "7 :  0.9906388152077807\n",
            "8 :  0.9575348143236074\n",
            "9 :  0.8255305039787798\n",
            "10 :  0.9490135941644562\n",
            "11 :  0.9080680813439435\n",
            "12 :  0.7995634394341291\n",
            "13 :  0.9298767683465959\n",
            "14 :  0.9698524535809019\n",
            "15 :  0.9554072723253758\n",
            "16 :  0.9353227232537578\n",
            "17 :  0.9450956012378426\n",
            "18 :  0.947026967285588\n",
            "19 :  0.8733007294429708\n"
          ],
          "name": "stdout"
        }
      ]
    }
  ]
}